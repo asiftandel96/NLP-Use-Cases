{
 "cells": [
  {
   "cell_type": "code",
   "execution_count": 2,
   "metadata": {},
   "outputs": [],
   "source": [
    "import nltk"
   ]
  },
  {
   "cell_type": "code",
   "execution_count": 3,
   "metadata": {},
   "outputs": [],
   "source": [
    "paragraph=\"\"\"I have three visions for India. In 3000 years of our history, people from all over \n",
    "               the world have come and invaded us, captured our lands, conquered our minds. \n",
    "               From Alexander onwards, the Greeks, the Turks, the Moguls, the Portuguese, the British,\n",
    "               the French, the Dutch, all of them came and looted us, took over what was ours. \n",
    "               Yet we have not done this to any other nation. We have not conquered anyone. \n",
    "               We have not grabbed their land, their culture, \n",
    "               their history and tried to enforce our way of life on them. \n",
    "               Why? Because we respect the freedom of others.That is why my \n",
    "               first vision is that of freedom. I believe that India got its first vision of \n",
    "               this in 1857, when we started the War of Independence. It is this freedom that\n",
    "               we must protect and nurture and build on. If we are not free, no one will respect us.\n",
    "               My second vision for India’s development. For fifty years we have been a developing nation.\n",
    "               It is time we see ourselves as a developed nation. We are among the top 5 nations of the world\n",
    "               in terms of GDP. We have a 10 percent growth rate in most areas. Our poverty levels are falling.\n",
    "               Our achievements are being globally recognised today. Yet we lack the self-confidence to\n",
    "               see ourselves as a developed nation, self-reliant and self-assured. Isn’t this incorrect?\n",
    "               I have a third vision. India must stand up to the world. Because I believe that unless India \n",
    "               stands up to the world, no one will respect us. Only strength respects strength. We must be \n",
    "               strong not only as a military power but also as an economic power. Both must go hand-in-hand. \n",
    "               My good fortune was to have worked with three great minds. Dr. Vikram Sarabhai of the Dept. of \n",
    "               space, Professor Satish Dhawan, who succeeded him and Dr. Brahm Prakash, father of nuclear material.\n",
    "               I was lucky to have worked with all three of them closely and consider this the great opportunity of my life. \n",
    "               I see four milestones in my career\"\"\""
   ]
  },
  {
   "cell_type": "markdown",
   "metadata": {},
   "source": [
    "# TOKENIZATION"
   ]
  },
  {
   "cell_type": "code",
   "execution_count": 4,
   "metadata": {},
   "outputs": [
    {
     "data": {
      "text/plain": [
       "['I have three visions for India.',\n",
       " 'In 3000 years of our history, people from all over \\n               the world have come and invaded us, captured our lands, conquered our minds.',\n",
       " 'From Alexander onwards, the Greeks, the Turks, the Moguls, the Portuguese, the British,\\n               the French, the Dutch, all of them came and looted us, took over what was ours.',\n",
       " 'Yet we have not done this to any other nation.',\n",
       " 'We have not conquered anyone.',\n",
       " 'We have not grabbed their land, their culture, \\n               their history and tried to enforce our way of life on them.',\n",
       " 'Why?',\n",
       " 'Because we respect the freedom of others.That is why my \\n               first vision is that of freedom.',\n",
       " 'I believe that India got its first vision of \\n               this in 1857, when we started the War of Independence.',\n",
       " 'It is this freedom that\\n               we must protect and nurture and build on.',\n",
       " 'If we are not free, no one will respect us.',\n",
       " 'My second vision for India’s development.',\n",
       " 'For fifty years we have been a developing nation.',\n",
       " 'It is time we see ourselves as a developed nation.',\n",
       " 'We are among the top 5 nations of the world\\n               in terms of GDP.',\n",
       " 'We have a 10 percent growth rate in most areas.',\n",
       " 'Our poverty levels are falling.',\n",
       " 'Our achievements are being globally recognised today.',\n",
       " 'Yet we lack the self-confidence to\\n               see ourselves as a developed nation, self-reliant and self-assured.',\n",
       " 'Isn’t this incorrect?',\n",
       " 'I have a third vision.',\n",
       " 'India must stand up to the world.',\n",
       " 'Because I believe that unless India \\n               stands up to the world, no one will respect us.',\n",
       " 'Only strength respects strength.',\n",
       " 'We must be \\n               strong not only as a military power but also as an economic power.',\n",
       " 'Both must go hand-in-hand.',\n",
       " 'My good fortune was to have worked with three great minds.',\n",
       " 'Dr. Vikram Sarabhai of the Dept.',\n",
       " 'of \\n               space, Professor Satish Dhawan, who succeeded him and Dr. Brahm Prakash, father of nuclear material.',\n",
       " 'I was lucky to have worked with all three of them closely and consider this the great opportunity of my life.',\n",
       " 'I see four milestones in my career']"
      ]
     },
     "execution_count": 4,
     "metadata": {},
     "output_type": "execute_result"
    }
   ],
   "source": [
    "# Tokenize Sentence\n",
    "sentence=nltk.sent_tokenize(paragraph)\n",
    "sentence"
   ]
  },
  {
   "cell_type": "code",
   "execution_count": 5,
   "metadata": {},
   "outputs": [
    {
     "name": "stdout",
     "output_type": "stream",
     "text": [
      "['I', 'have', 'three', 'visions', 'for', 'India', '.', 'In', '3000', 'years', 'of', 'our', 'history', ',', 'people', 'from', 'all', 'over', 'the', 'world', 'have', 'come', 'and', 'invaded', 'us', ',', 'captured', 'our', 'lands', ',', 'conquered', 'our', 'minds', '.', 'From', 'Alexander', 'onwards', ',', 'the', 'Greeks', ',', 'the', 'Turks', ',', 'the', 'Moguls', ',', 'the', 'Portuguese', ',', 'the', 'British', ',', 'the', 'French', ',', 'the', 'Dutch', ',', 'all', 'of', 'them', 'came', 'and', 'looted', 'us', ',', 'took', 'over', 'what', 'was', 'ours', '.', 'Yet', 'we', 'have', 'not', 'done', 'this', 'to', 'any', 'other', 'nation', '.', 'We', 'have', 'not', 'conquered', 'anyone', '.', 'We', 'have', 'not', 'grabbed', 'their', 'land', ',', 'their', 'culture', ',', 'their', 'history', 'and', 'tried', 'to', 'enforce', 'our', 'way', 'of', 'life', 'on', 'them', '.', 'Why', '?', 'Because', 'we', 'respect', 'the', 'freedom', 'of', 'others.That', 'is', 'why', 'my', 'first', 'vision', 'is', 'that', 'of', 'freedom', '.', 'I', 'believe', 'that', 'India', 'got', 'its', 'first', 'vision', 'of', 'this', 'in', '1857', ',', 'when', 'we', 'started', 'the', 'War', 'of', 'Independence', '.', 'It', 'is', 'this', 'freedom', 'that', 'we', 'must', 'protect', 'and', 'nurture', 'and', 'build', 'on', '.', 'If', 'we', 'are', 'not', 'free', ',', 'no', 'one', 'will', 'respect', 'us', '.', 'My', 'second', 'vision', 'for', 'India', '’', 's', 'development', '.', 'For', 'fifty', 'years', 'we', 'have', 'been', 'a', 'developing', 'nation', '.', 'It', 'is', 'time', 'we', 'see', 'ourselves', 'as', 'a', 'developed', 'nation', '.', 'We', 'are', 'among', 'the', 'top', '5', 'nations', 'of', 'the', 'world', 'in', 'terms', 'of', 'GDP', '.', 'We', 'have', 'a', '10', 'percent', 'growth', 'rate', 'in', 'most', 'areas', '.', 'Our', 'poverty', 'levels', 'are', 'falling', '.', 'Our', 'achievements', 'are', 'being', 'globally', 'recognised', 'today', '.', 'Yet', 'we', 'lack', 'the', 'self-confidence', 'to', 'see', 'ourselves', 'as', 'a', 'developed', 'nation', ',', 'self-reliant', 'and', 'self-assured', '.', 'Isn', '’', 't', 'this', 'incorrect', '?', 'I', 'have', 'a', 'third', 'vision', '.', 'India', 'must', 'stand', 'up', 'to', 'the', 'world', '.', 'Because', 'I', 'believe', 'that', 'unless', 'India', 'stands', 'up', 'to', 'the', 'world', ',', 'no', 'one', 'will', 'respect', 'us', '.', 'Only', 'strength', 'respects', 'strength', '.', 'We', 'must', 'be', 'strong', 'not', 'only', 'as', 'a', 'military', 'power', 'but', 'also', 'as', 'an', 'economic', 'power', '.', 'Both', 'must', 'go', 'hand-in-hand', '.', 'My', 'good', 'fortune', 'was', 'to', 'have', 'worked', 'with', 'three', 'great', 'minds', '.', 'Dr.', 'Vikram', 'Sarabhai', 'of', 'the', 'Dept', '.', 'of', 'space', ',', 'Professor', 'Satish', 'Dhawan', ',', 'who', 'succeeded', 'him', 'and', 'Dr.', 'Brahm', 'Prakash', ',', 'father', 'of', 'nuclear', 'material', '.', 'I', 'was', 'lucky', 'to', 'have', 'worked', 'with', 'all', 'three', 'of', 'them', 'closely', 'and', 'consider', 'this', 'the', 'great', 'opportunity', 'of', 'my', 'life', '.', 'I', 'see', 'four', 'milestones', 'in', 'my', 'career'] "
     ]
    }
   ],
   "source": [
    "# Tokenize words\n",
    "words=nltk.word_tokenize(paragraph)\n",
    "print(words,end=' ')"
   ]
  },
  {
   "cell_type": "markdown",
   "metadata": {},
   "source": [
    "# STEMMING "
   ]
  },
  {
   "cell_type": "code",
   "execution_count": 6,
   "metadata": {},
   "outputs": [],
   "source": [
    "# Importing necessary library for stemming\n",
    "from nltk.stem import PorterStemmer\n",
    "from nltk.corpus import stopwords\n",
    "\n",
    "sentences=nltk.sent_tokenize(paragraph)\n",
    "stemmer=PorterStemmer()\n",
    "\n",
    "# Perform Stemming\n",
    "for i in range(len(sentences)):\n",
    "    words=nltk.word_tokenize(sentence[i])\n",
    "    words=[stemmer.stem(word.lower()) for word in words if word not in set(stopwords.words('english'))]\n",
    "    sentences[i] = ' '.join(words)"
   ]
  },
  {
   "cell_type": "code",
   "execution_count": 7,
   "metadata": {},
   "outputs": [
    {
     "data": {
      "text/plain": [
       "['i three vision india .',\n",
       " 'in 3000 year histori , peopl world come invad us , captur land , conquer mind .',\n",
       " 'from alexand onward , greek , turk , mogul , portugues , british , french , dutch , came loot us , took .',\n",
       " 'yet done nation .',\n",
       " 'we conquer anyon .',\n",
       " 'we grab land , cultur , histori tri enforc way life .',\n",
       " 'whi ?',\n",
       " 'becaus respect freedom others.that first vision freedom .',\n",
       " 'i believ india got first vision 1857 , start war independ .',\n",
       " 'it freedom must protect nurtur build .',\n",
       " 'if free , one respect us .',\n",
       " 'my second vision india ’ develop .',\n",
       " 'for fifti year develop nation .',\n",
       " 'it time see develop nation .',\n",
       " 'we among top 5 nation world term gdp .',\n",
       " 'we 10 percent growth rate area .',\n",
       " 'our poverti level fall .',\n",
       " 'our achiev global recognis today .',\n",
       " 'yet lack self-confid see develop nation , self-reli self-assur .',\n",
       " 'isn ’ incorrect ?',\n",
       " 'i third vision .',\n",
       " 'india must stand world .',\n",
       " 'becaus i believ unless india stand world , one respect us .',\n",
       " 'onli strength respect strength .',\n",
       " 'we must strong militari power also econom power .',\n",
       " 'both must go hand-in-hand .',\n",
       " 'my good fortun work three great mind .',\n",
       " 'dr. vikram sarabhai dept .',\n",
       " 'space , professor satish dhawan , succeed dr. brahm prakash , father nuclear materi .',\n",
       " 'i lucki work three close consid great opportun life .',\n",
       " 'i see four mileston career']"
      ]
     },
     "execution_count": 7,
     "metadata": {},
     "output_type": "execute_result"
    }
   ],
   "source": [
    "sentences"
   ]
  },
  {
   "cell_type": "code",
   "execution_count": 8,
   "metadata": {},
   "outputs": [
    {
     "name": "stdout",
     "output_type": "stream",
     "text": [
      "['i', 'me', 'my', 'myself', 'we', 'our', 'ours', 'ourselves', 'you', \"you're\", \"you've\", \"you'll\", \"you'd\", 'your', 'yours', 'yourself', 'yourselves', 'he', 'him', 'his', 'himself', 'she', \"she's\", 'her', 'hers', 'herself', 'it', \"it's\", 'its', 'itself', 'they', 'them', 'their', 'theirs', 'themselves', 'what', 'which', 'who', 'whom', 'this', 'that', \"that'll\", 'these', 'those', 'am', 'is', 'are', 'was', 'were', 'be', 'been', 'being', 'have', 'has', 'had', 'having', 'do', 'does', 'did', 'doing', 'a', 'an', 'the', 'and', 'but', 'if', 'or', 'because', 'as', 'until', 'while', 'of', 'at', 'by', 'for', 'with', 'about', 'against', 'between', 'into', 'through', 'during', 'before', 'after', 'above', 'below', 'to', 'from', 'up', 'down', 'in', 'out', 'on', 'off', 'over', 'under', 'again', 'further', 'then', 'once', 'here', 'there', 'when', 'where', 'why', 'how', 'all', 'any', 'both', 'each', 'few', 'more', 'most', 'other', 'some', 'such', 'no', 'nor', 'not', 'only', 'own', 'same', 'so', 'than', 'too', 'very', 's', 't', 'can', 'will', 'just', 'don', \"don't\", 'should', \"should've\", 'now', 'd', 'll', 'm', 'o', 're', 've', 'y', 'ain', 'aren', \"aren't\", 'couldn', \"couldn't\", 'didn', \"didn't\", 'doesn', \"doesn't\", 'hadn', \"hadn't\", 'hasn', \"hasn't\", 'haven', \"haven't\", 'isn', \"isn't\", 'ma', 'mightn', \"mightn't\", 'mustn', \"mustn't\", 'needn', \"needn't\", 'shan', \"shan't\", 'shouldn', \"shouldn't\", 'wasn', \"wasn't\", 'weren', \"weren't\", 'won', \"won't\", 'wouldn', \"wouldn't\"] "
     ]
    }
   ],
   "source": [
    "# This are the stopwords from the nltk library for english\n",
    "print(stopwords.words('english'),end=' ')"
   ]
  },
  {
   "cell_type": "markdown",
   "metadata": {},
   "source": [
    "Problem with Stemming:-\n",
    "\n",
    "Produce intermediate representation of the word may not have the proper meaning to it.E.g Intellig,Fina\n",
    "\n",
    "How to Handle this problem:-\n",
    "\n",
    "We can handle this problem  using Lemmatization"
   ]
  },
  {
   "cell_type": "markdown",
   "metadata": {},
   "source": [
    "# LEMMATIZATION"
   ]
  },
  {
   "cell_type": "code",
   "execution_count": 9,
   "metadata": {},
   "outputs": [],
   "source": [
    "from nltk.stem import WordNetLemmatizer\n",
    "from nltk.corpus import stopwords\n",
    "\n",
    "sentences=nltk.sent_tokenize(paragraph)\n",
    "lemmatizer=WordNetLemmatizer()\n",
    "\n",
    "for i in range(len(sentences)):\n",
    "    words=nltk.word_tokenize(paragraph)\n",
    "    words=[lemmatizer.lemmatize(word.lower()) for word in words if word not in set(stopwords.words('english'))]\n",
    "    sentences[i]=' '.join(words)"
   ]
  },
  {
   "cell_type": "code",
   "execution_count": 10,
   "metadata": {},
   "outputs": [
    {
     "name": "stdout",
     "output_type": "stream",
     "text": [
      "['i', 'three', 'vision', 'india', '.', 'in', '3000', 'year', 'history', ',', 'people', 'world', 'come', 'invaded', 'u', ',', 'captured', 'land', ',', 'conquered', 'mind', '.', 'from', 'alexander', 'onwards', ',', 'greek', ',', 'turk', ',', 'mogul', ',', 'portuguese', ',', 'british', ',', 'french', ',', 'dutch', ',', 'came', 'looted', 'u', ',', 'took', '.', 'yet', 'done', 'nation', '.', 'we', 'conquered', 'anyone', '.', 'we', 'grabbed', 'land', ',', 'culture', ',', 'history', 'tried', 'enforce', 'way', 'life', '.', 'why', '?', 'because', 'respect', 'freedom', 'others.that', 'first', 'vision', 'freedom', '.', 'i', 'believe', 'india', 'got', 'first', 'vision', '1857', ',', 'started', 'war', 'independence', '.', 'it', 'freedom', 'must', 'protect', 'nurture', 'build', '.', 'if', 'free', ',', 'one', 'respect', 'u', '.', 'my', 'second', 'vision', 'india', '’', 'development', '.', 'for', 'fifty', 'year', 'developing', 'nation', '.', 'it', 'time', 'see', 'developed', 'nation', '.', 'we', 'among', 'top', '5', 'nation', 'world', 'term', 'gdp', '.', 'we', '10', 'percent', 'growth', 'rate', 'area', '.', 'our', 'poverty', 'level', 'falling', '.', 'our', 'achievement', 'globally', 'recognised', 'today', '.', 'yet', 'lack', 'self-confidence', 'see', 'developed', 'nation', ',', 'self-reliant', 'self-assured', '.', 'isn', '’', 'incorrect', '?', 'i', 'third', 'vision', '.', 'india', 'must', 'stand', 'world', '.', 'because', 'i', 'believe', 'unless', 'india', 'stand', 'world', ',', 'one', 'respect', 'u', '.', 'only', 'strength', 'respect', 'strength', '.', 'we', 'must', 'strong', 'military', 'power', 'also', 'economic', 'power', '.', 'both', 'must', 'go', 'hand-in-hand', '.', 'my', 'good', 'fortune', 'worked', 'three', 'great', 'mind', '.', 'dr.', 'vikram', 'sarabhai', 'dept', '.', 'space', ',', 'professor', 'satish', 'dhawan', ',', 'succeeded', 'dr.', 'brahm', 'prakash', ',', 'father', 'nuclear', 'material', '.', 'i', 'lucky', 'worked', 'three', 'closely', 'consider', 'great', 'opportunity', 'life', '.', 'i', 'see', 'four', 'milestone', 'career']\n"
     ]
    }
   ],
   "source": [
    "print(words)"
   ]
  },
  {
   "cell_type": "markdown",
   "metadata": {},
   "source": [
    "# BAG OF WORDS"
   ]
  },
  {
   "cell_type": "code",
   "execution_count": 11,
   "metadata": {},
   "outputs": [],
   "source": [
    "# Using Lemmatization\n",
    "from nltk.corpus import stopwords\n",
    "from nltk.stem import PorterStemmer\n",
    "from nltk.stem import WordNetLemmatizer\n",
    "import re\n",
    "\n",
    "paragraph =  \"\"\"I have three visions for India. In 3000 years of our history, people from all over \n",
    "               the world have come and invaded us, captured our lands, conquered our minds. \n",
    "               From Alexander onwards, the Greeks, the Turks, the Moguls, the Portuguese, the British,\n",
    "               the French, the Dutch, all of them came and looted us, took over what was ours. \n",
    "               Yet we have not done this to any other nation. We have not conquered anyone. \n",
    "               We have not grabbed their land, their culture, \n",
    "               their history and tried to enforce our way of life on them. \n",
    "               Why? Because we respect the freedom of others.That is why my \n",
    "               first vision is that of freedom. I believe that India got its first vision of \n",
    "               this in 1857, when we started the War of Independence. It is this freedom that\n",
    "               we must protect and nurture and build on. If we are not free, no one will respect us.\n",
    "               My second vision for India’s development. For fifty years we have been a developing nation.\n",
    "               It is time we see ourselves as a developed nation. We are among the top 5 nations of the world\n",
    "               in terms of GDP. We have a 10 percent growth rate in most areas. Our poverty levels are falling.\n",
    "               Our achievements are being globally recognised today. Yet we lack the self-confidence to\n",
    "               see ourselves as a developed nation, self-reliant and self-assured. Isn’t this incorrect?\n",
    "               I have a third vision. India must stand up to the world. Because I believe that unless India \n",
    "               stands up to the world, no one will respect us. Only strength respects strength. We must be \n",
    "               strong not only as a military power but also as an economic power. Both must go hand-in-hand. \n",
    "               My good fortune was to have worked with three great minds. Dr. Vikram Sarabhai of the Dept. of \n",
    "               space, Professor Satish Dhawan, who succeeded him and Dr. Brahm Prakash, father of nuclear material.\n",
    "               I was lucky to have worked with all three of them closely and consider this the great opportunity of my life. \n",
    "               I see four milestones in my career\"\"\"\n",
    "\n",
    "# cleaning the text\n",
    "ps=PorterStemmer()\n",
    "wordnet=WordNetLemmatizer()\n",
    "sentences_p=nltk.sent_tokenize(paragraph)\n",
    "corpus = []\n",
    "for i in range(len(sentences_p)):\n",
    "    review=re.sub('[^a-zA-z]', ' ' , sentences_p[i])\n",
    "    review=review.lower()\n",
    "    review=review.split()\n",
    "    review=[wordnet.lemmatize(word) for word in review if word not in set(stopwords.words('english'))]\n",
    "    review = ' '.join(review)\n",
    "    corpus.append(review)\n",
    "    \n",
    "#create the Bag of Words model\n",
    "\n",
    "from sklearn.feature_extraction.text import CountVectorizer\n",
    "cv=CountVectorizer()\n",
    "X=cv.fit_transform(corpus).toarray()"
   ]
  },
  {
   "cell_type": "code",
   "execution_count": 12,
   "metadata": {},
   "outputs": [],
   "source": [
    "# Using Lemmatization\n",
    "from nltk.corpus import stopwords\n",
    "from nltk.stem import PorterStemmer\n",
    "from nltk.stem import WordNetLemmatizer\n",
    "import re\n",
    "\n",
    "paragraph =  \"\"\"I have three visions for India. In 3000 years of our history, people from all over \n",
    "               the world have come and invaded us, captured our lands, conquered our minds. \n",
    "               From Alexander onwards, the Greeks, the Turks, the Moguls, the Portuguese, the British,\n",
    "               the French, the Dutch, all of them came and looted us, took over what was ours. \n",
    "               Yet we have not done this to any other nation. We have not conquered anyone. \n",
    "               We have not grabbed their land, their culture, \n",
    "               their history and tried to enforce our way of life on them. \n",
    "               Why? Because we respect the freedom of others.That is why my \n",
    "               first vision is that of freedom. I believe that India got its first vision of \n",
    "               this in 1857, when we started the War of Independence. It is this freedom that\n",
    "               we must protect and nurture and build on. If we are not free, no one will respect us.\n",
    "               My second vision for India’s development. For fifty years we have been a developing nation.\n",
    "               It is time we see ourselves as a developed nation. We are among the top 5 nations of the world\n",
    "               in terms of GDP. We have a 10 percent growth rate in most areas. Our poverty levels are falling.\n",
    "               Our achievements are being globally recognised today. Yet we lack the self-confidence to\n",
    "               see ourselves as a developed nation, self-reliant and self-assured. Isn’t this incorrect?\n",
    "               I have a third vision. India must stand up to the world. Because I believe that unless India \n",
    "               stands up to the world, no one will respect us. Only strength respects strength. We must be \n",
    "               strong not only as a military power but also as an economic power. Both must go hand-in-hand. \n",
    "               My good fortune was to have worked with three great minds. Dr. Vikram Sarabhai of the Dept. of \n",
    "               space, Professor Satish Dhawan, who succeeded him and Dr. Brahm Prakash, father of nuclear material.\n",
    "               I was lucky to have worked with all three of them closely and consider this the great opportunity of my life. \n",
    "               I see four milestones in my career\"\"\"\n",
    "\n",
    "# cleaning the text\n",
    "ps=PorterStemmer()\n",
    "wordnet=WordNetLemmatizer()\n",
    "sentences_p=nltk.sent_tokenize(paragraph)\n",
    "corpus = []\n",
    "for i in range(len(sentences_p)):\n",
    "    review=re.sub('[^a-zA-z]', ' ' , sentences_p[i])\n",
    "    review=review.lower()\n",
    "    review=review.split()\n",
    "    review=[ps.stem(word) for word in review if word not in set(stopwords.words('english'))]\n",
    "    review = ' '.join(review)\n",
    "    corpus.append(review)\n",
    "    \n",
    "#create the Bag of Words model\n",
    "\n",
    "from sklearn.feature_extraction.text import CountVectorizer\n",
    "cv=CountVectorizer()\n",
    "X_1=cv.fit_transform(corpus).toarray()"
   ]
  },
  {
   "cell_type": "code",
   "execution_count": 13,
   "metadata": {},
   "outputs": [
    {
     "data": {
      "text/plain": [
       "['three vision india',\n",
       " 'year histori peopl world come invad us captur land conquer mind',\n",
       " 'alexand onward greek turk mogul portugues british french dutch came loot us took',\n",
       " 'yet done nation',\n",
       " 'conquer anyon',\n",
       " 'grab land cultur histori tri enforc way life',\n",
       " '',\n",
       " 'respect freedom other first vision freedom',\n",
       " 'believ india got first vision start war independ',\n",
       " 'freedom must protect nurtur build',\n",
       " 'free one respect us',\n",
       " 'second vision india develop',\n",
       " 'fifti year develop nation',\n",
       " 'time see develop nation',\n",
       " 'among top nation world term gdp',\n",
       " 'percent growth rate area',\n",
       " 'poverti level fall',\n",
       " 'achiev global recognis today',\n",
       " 'yet lack self confid see develop nation self reliant self assur',\n",
       " 'incorrect',\n",
       " 'third vision',\n",
       " 'india must stand world',\n",
       " 'believ unless india stand world one respect us',\n",
       " 'strength respect strength',\n",
       " 'must strong militari power also econom power',\n",
       " 'must go hand hand',\n",
       " 'good fortun work three great mind',\n",
       " 'dr vikram sarabhai dept',\n",
       " 'space professor satish dhawan succeed dr brahm prakash father nuclear materi',\n",
       " 'lucki work three close consid great opportun life',\n",
       " 'see four mileston career']"
      ]
     },
     "execution_count": 13,
     "metadata": {},
     "output_type": "execute_result"
    }
   ],
   "source": [
    "corpus"
   ]
  },
  {
   "cell_type": "code",
   "execution_count": 14,
   "metadata": {},
   "outputs": [
    {
     "data": {
      "text/plain": [
       "['three vision india',\n",
       " 'year histori peopl world come invad us captur land conquer mind',\n",
       " 'alexand onward greek turk mogul portugues british french dutch came loot us took',\n",
       " 'yet done nation',\n",
       " 'conquer anyon',\n",
       " 'grab land cultur histori tri enforc way life',\n",
       " '',\n",
       " 'respect freedom other first vision freedom',\n",
       " 'believ india got first vision start war independ',\n",
       " 'freedom must protect nurtur build',\n",
       " 'free one respect us',\n",
       " 'second vision india develop',\n",
       " 'fifti year develop nation',\n",
       " 'time see develop nation',\n",
       " 'among top nation world term gdp',\n",
       " 'percent growth rate area',\n",
       " 'poverti level fall',\n",
       " 'achiev global recognis today',\n",
       " 'yet lack self confid see develop nation self reliant self assur',\n",
       " 'incorrect',\n",
       " 'third vision',\n",
       " 'india must stand world',\n",
       " 'believ unless india stand world one respect us',\n",
       " 'strength respect strength',\n",
       " 'must strong militari power also econom power',\n",
       " 'must go hand hand',\n",
       " 'good fortun work three great mind',\n",
       " 'dr vikram sarabhai dept',\n",
       " 'space professor satish dhawan succeed dr brahm prakash father nuclear materi',\n",
       " 'lucki work three close consid great opportun life',\n",
       " 'see four mileston career']"
      ]
     },
     "execution_count": 14,
     "metadata": {},
     "output_type": "execute_result"
    }
   ],
   "source": [
    "corpus"
   ]
  },
  {
   "cell_type": "code",
   "execution_count": 15,
   "metadata": {},
   "outputs": [
    {
     "data": {
      "text/html": [
       "<div>\n",
       "<style scoped>\n",
       "    .dataframe tbody tr th:only-of-type {\n",
       "        vertical-align: middle;\n",
       "    }\n",
       "\n",
       "    .dataframe tbody tr th {\n",
       "        vertical-align: top;\n",
       "    }\n",
       "\n",
       "    .dataframe thead th {\n",
       "        text-align: right;\n",
       "    }\n",
       "</style>\n",
       "<table border=\"1\" class=\"dataframe\">\n",
       "  <thead>\n",
       "    <tr style=\"text-align: right;\">\n",
       "      <th></th>\n",
       "      <th>0</th>\n",
       "      <th>1</th>\n",
       "      <th>2</th>\n",
       "      <th>3</th>\n",
       "      <th>4</th>\n",
       "      <th>5</th>\n",
       "      <th>6</th>\n",
       "      <th>7</th>\n",
       "      <th>8</th>\n",
       "      <th>9</th>\n",
       "      <th>...</th>\n",
       "      <th>104</th>\n",
       "      <th>105</th>\n",
       "      <th>106</th>\n",
       "      <th>107</th>\n",
       "      <th>108</th>\n",
       "      <th>109</th>\n",
       "      <th>110</th>\n",
       "      <th>111</th>\n",
       "      <th>112</th>\n",
       "      <th>113</th>\n",
       "    </tr>\n",
       "  </thead>\n",
       "  <tbody>\n",
       "    <tr>\n",
       "      <th>0</th>\n",
       "      <td>0</td>\n",
       "      <td>0</td>\n",
       "      <td>0</td>\n",
       "      <td>0</td>\n",
       "      <td>0</td>\n",
       "      <td>0</td>\n",
       "      <td>0</td>\n",
       "      <td>0</td>\n",
       "      <td>0</td>\n",
       "      <td>0</td>\n",
       "      <td>...</td>\n",
       "      <td>0</td>\n",
       "      <td>0</td>\n",
       "      <td>0</td>\n",
       "      <td>1</td>\n",
       "      <td>0</td>\n",
       "      <td>0</td>\n",
       "      <td>0</td>\n",
       "      <td>0</td>\n",
       "      <td>0</td>\n",
       "      <td>0</td>\n",
       "    </tr>\n",
       "    <tr>\n",
       "      <th>1</th>\n",
       "      <td>0</td>\n",
       "      <td>0</td>\n",
       "      <td>0</td>\n",
       "      <td>0</td>\n",
       "      <td>0</td>\n",
       "      <td>0</td>\n",
       "      <td>0</td>\n",
       "      <td>0</td>\n",
       "      <td>0</td>\n",
       "      <td>0</td>\n",
       "      <td>...</td>\n",
       "      <td>0</td>\n",
       "      <td>0</td>\n",
       "      <td>0</td>\n",
       "      <td>0</td>\n",
       "      <td>0</td>\n",
       "      <td>0</td>\n",
       "      <td>0</td>\n",
       "      <td>1</td>\n",
       "      <td>1</td>\n",
       "      <td>0</td>\n",
       "    </tr>\n",
       "    <tr>\n",
       "      <th>2</th>\n",
       "      <td>0</td>\n",
       "      <td>1</td>\n",
       "      <td>0</td>\n",
       "      <td>0</td>\n",
       "      <td>0</td>\n",
       "      <td>0</td>\n",
       "      <td>0</td>\n",
       "      <td>0</td>\n",
       "      <td>0</td>\n",
       "      <td>1</td>\n",
       "      <td>...</td>\n",
       "      <td>1</td>\n",
       "      <td>0</td>\n",
       "      <td>0</td>\n",
       "      <td>0</td>\n",
       "      <td>0</td>\n",
       "      <td>0</td>\n",
       "      <td>0</td>\n",
       "      <td>0</td>\n",
       "      <td>0</td>\n",
       "      <td>0</td>\n",
       "    </tr>\n",
       "    <tr>\n",
       "      <th>3</th>\n",
       "      <td>0</td>\n",
       "      <td>0</td>\n",
       "      <td>0</td>\n",
       "      <td>0</td>\n",
       "      <td>0</td>\n",
       "      <td>0</td>\n",
       "      <td>0</td>\n",
       "      <td>0</td>\n",
       "      <td>0</td>\n",
       "      <td>0</td>\n",
       "      <td>...</td>\n",
       "      <td>0</td>\n",
       "      <td>0</td>\n",
       "      <td>0</td>\n",
       "      <td>0</td>\n",
       "      <td>0</td>\n",
       "      <td>0</td>\n",
       "      <td>0</td>\n",
       "      <td>0</td>\n",
       "      <td>0</td>\n",
       "      <td>1</td>\n",
       "    </tr>\n",
       "    <tr>\n",
       "      <th>4</th>\n",
       "      <td>0</td>\n",
       "      <td>0</td>\n",
       "      <td>0</td>\n",
       "      <td>0</td>\n",
       "      <td>1</td>\n",
       "      <td>0</td>\n",
       "      <td>0</td>\n",
       "      <td>0</td>\n",
       "      <td>0</td>\n",
       "      <td>0</td>\n",
       "      <td>...</td>\n",
       "      <td>0</td>\n",
       "      <td>0</td>\n",
       "      <td>0</td>\n",
       "      <td>0</td>\n",
       "      <td>0</td>\n",
       "      <td>0</td>\n",
       "      <td>0</td>\n",
       "      <td>0</td>\n",
       "      <td>0</td>\n",
       "      <td>0</td>\n",
       "    </tr>\n",
       "  </tbody>\n",
       "</table>\n",
       "<p>5 rows × 114 columns</p>\n",
       "</div>"
      ],
      "text/plain": [
       "   0    1    2    3    4    5    6    7    8    9    ...  104  105  106  107  \\\n",
       "0    0    0    0    0    0    0    0    0    0    0  ...    0    0    0    1   \n",
       "1    0    0    0    0    0    0    0    0    0    0  ...    0    0    0    0   \n",
       "2    0    1    0    0    0    0    0    0    0    1  ...    1    0    0    0   \n",
       "3    0    0    0    0    0    0    0    0    0    0  ...    0    0    0    0   \n",
       "4    0    0    0    0    1    0    0    0    0    0  ...    0    0    0    0   \n",
       "\n",
       "   108  109  110  111  112  113  \n",
       "0    0    0    0    0    0    0  \n",
       "1    0    0    0    1    1    0  \n",
       "2    0    0    0    0    0    0  \n",
       "3    0    0    0    0    0    1  \n",
       "4    0    0    0    0    0    0  \n",
       "\n",
       "[5 rows x 114 columns]"
      ]
     },
     "execution_count": 15,
     "metadata": {},
     "output_type": "execute_result"
    }
   ],
   "source": [
    "import pandas as pd\n",
    "v=pd.DataFrame(data=X)\n",
    "v.head()"
   ]
  },
  {
   "cell_type": "markdown",
   "metadata": {},
   "source": [
    "# TF-IDF"
   ]
  },
  {
   "cell_type": "code",
   "execution_count": 16,
   "metadata": {},
   "outputs": [],
   "source": [
    "# Using TF-IDF words\n",
    "from nltk.corpus import stopwords\n",
    "from nltk.stem import PorterStemmer\n",
    "from nltk.stem import WordNetLemmatizer\n",
    "import re\n",
    "\n",
    "paragraph =  \"\"\"I have three visions for India. In 3000 years of our history, people from all over \n",
    "               the world have come and invaded us, captured our lands, conquered our minds. \n",
    "               From Alexander onwards, the Greeks, the Turks, the Moguls, the Portuguese, the British,\n",
    "               the French, the Dutch, all of them came and looted us, took over what was ours. \n",
    "               Yet we have not done this to any other nation. We have not conquered anyone. \n",
    "               We have not grabbed their land, their culture, \n",
    "               their history and tried to enforce our way of life on them. \n",
    "               Why? Because we respect the freedom of others.That is why my \n",
    "               first vision is that of freedom. I believe that India got its first vision of \n",
    "               this in 1857, when we started the War of Independence. It is this freedom that\n",
    "               we must protect and nurture and build on. If we are not free, no one will respect us.\n",
    "               My second vision for India’s development. For fifty years we have been a developing nation.\n",
    "               It is time we see ourselves as a developed nation. We are among the top 5 nations of the world\n",
    "               in terms of GDP. We have a 10 percent growth rate in most areas. Our poverty levels are falling.\n",
    "               Our achievements are being globally recognised today. Yet we lack the self-confidence to\n",
    "               see ourselves as a developed nation, self-reliant and self-assured. Isn’t this incorrect?\n",
    "               I have a third vision. India must stand up to the world. Because I believe that unless India \n",
    "               stands up to the world, no one will respect us. Only strength respects strength. We must be \n",
    "               strong not only as a military power but also as an economic power. Both must go hand-in-hand. \n",
    "               My good fortune was to have worked with three great minds. Dr. Vikram Sarabhai of the Dept. of \n",
    "               space, Professor Satish Dhawan, who succeeded him and Dr. Brahm Prakash, father of nuclear material.\n",
    "               I was lucky to have worked with all three of them closely and consider this the great opportunity of my life. \n",
    "               I see four milestones in my career\"\"\"\n",
    "\n",
    "# cleaning the text\n",
    "ps=PorterStemmer()\n",
    "wordnet=WordNetLemmatizer()\n",
    "sentences_p=nltk.sent_tokenize(paragraph)\n",
    "corpus = []\n",
    "for i in range(len(sentences_p)):\n",
    "    review=re.sub('[^a-zA-z]', ' ' , sentences_p[i])\n",
    "    review=review.lower()\n",
    "    review=review.split()\n",
    "    review=[ps.stem(word) for word in review if word not in set(stopwords.words('english'))]\n",
    "    review = ' '.join(review)\n",
    "    corpus.append(review)\n",
    "    \n",
    "#create the Bag of Words model\n",
    "\n",
    "from sklearn.feature_extraction.text import TfidfVectorizer\n",
    "tf=TfidfVectorizer()\n",
    "X_2=tf.fit_transform(corpus).toarray()"
   ]
  },
  {
   "cell_type": "code",
   "execution_count": 17,
   "metadata": {},
   "outputs": [
    {
     "data": {
      "text/html": [
       "<div>\n",
       "<style scoped>\n",
       "    .dataframe tbody tr th:only-of-type {\n",
       "        vertical-align: middle;\n",
       "    }\n",
       "\n",
       "    .dataframe tbody tr th {\n",
       "        vertical-align: top;\n",
       "    }\n",
       "\n",
       "    .dataframe thead th {\n",
       "        text-align: right;\n",
       "    }\n",
       "</style>\n",
       "<table border=\"1\" class=\"dataframe\">\n",
       "  <thead>\n",
       "    <tr style=\"text-align: right;\">\n",
       "      <th></th>\n",
       "      <th>0</th>\n",
       "      <th>1</th>\n",
       "      <th>2</th>\n",
       "      <th>3</th>\n",
       "      <th>4</th>\n",
       "      <th>5</th>\n",
       "      <th>6</th>\n",
       "      <th>7</th>\n",
       "      <th>8</th>\n",
       "      <th>9</th>\n",
       "      <th>...</th>\n",
       "      <th>103</th>\n",
       "      <th>104</th>\n",
       "      <th>105</th>\n",
       "      <th>106</th>\n",
       "      <th>107</th>\n",
       "      <th>108</th>\n",
       "      <th>109</th>\n",
       "      <th>110</th>\n",
       "      <th>111</th>\n",
       "      <th>112</th>\n",
       "    </tr>\n",
       "  </thead>\n",
       "  <tbody>\n",
       "    <tr>\n",
       "      <th>0</th>\n",
       "      <td>0.0</td>\n",
       "      <td>0.000000</td>\n",
       "      <td>0.0</td>\n",
       "      <td>0.0</td>\n",
       "      <td>0.000000</td>\n",
       "      <td>0.0</td>\n",
       "      <td>0.0</td>\n",
       "      <td>0.0</td>\n",
       "      <td>0.0</td>\n",
       "      <td>0.000000</td>\n",
       "      <td>...</td>\n",
       "      <td>0.0</td>\n",
       "      <td>0.000000</td>\n",
       "      <td>0.0</td>\n",
       "      <td>0.548305</td>\n",
       "      <td>0.0</td>\n",
       "      <td>0.0</td>\n",
       "      <td>0.0</td>\n",
       "      <td>0.000000</td>\n",
       "      <td>0.000000</td>\n",
       "      <td>0.000000</td>\n",
       "    </tr>\n",
       "    <tr>\n",
       "      <th>1</th>\n",
       "      <td>0.0</td>\n",
       "      <td>0.000000</td>\n",
       "      <td>0.0</td>\n",
       "      <td>0.0</td>\n",
       "      <td>0.000000</td>\n",
       "      <td>0.0</td>\n",
       "      <td>0.0</td>\n",
       "      <td>0.0</td>\n",
       "      <td>0.0</td>\n",
       "      <td>0.000000</td>\n",
       "      <td>...</td>\n",
       "      <td>0.0</td>\n",
       "      <td>0.250577</td>\n",
       "      <td>0.0</td>\n",
       "      <td>0.000000</td>\n",
       "      <td>0.0</td>\n",
       "      <td>0.0</td>\n",
       "      <td>0.0</td>\n",
       "      <td>0.250577</td>\n",
       "      <td>0.295391</td>\n",
       "      <td>0.000000</td>\n",
       "    </tr>\n",
       "    <tr>\n",
       "      <th>2</th>\n",
       "      <td>0.0</td>\n",
       "      <td>0.282018</td>\n",
       "      <td>0.0</td>\n",
       "      <td>0.0</td>\n",
       "      <td>0.000000</td>\n",
       "      <td>0.0</td>\n",
       "      <td>0.0</td>\n",
       "      <td>0.0</td>\n",
       "      <td>0.0</td>\n",
       "      <td>0.282018</td>\n",
       "      <td>...</td>\n",
       "      <td>0.0</td>\n",
       "      <td>0.213521</td>\n",
       "      <td>0.0</td>\n",
       "      <td>0.000000</td>\n",
       "      <td>0.0</td>\n",
       "      <td>0.0</td>\n",
       "      <td>0.0</td>\n",
       "      <td>0.000000</td>\n",
       "      <td>0.000000</td>\n",
       "      <td>0.000000</td>\n",
       "    </tr>\n",
       "    <tr>\n",
       "      <th>3</th>\n",
       "      <td>0.0</td>\n",
       "      <td>0.000000</td>\n",
       "      <td>0.0</td>\n",
       "      <td>0.0</td>\n",
       "      <td>0.000000</td>\n",
       "      <td>0.0</td>\n",
       "      <td>0.0</td>\n",
       "      <td>0.0</td>\n",
       "      <td>0.0</td>\n",
       "      <td>0.000000</td>\n",
       "      <td>...</td>\n",
       "      <td>0.0</td>\n",
       "      <td>0.000000</td>\n",
       "      <td>0.0</td>\n",
       "      <td>0.000000</td>\n",
       "      <td>0.0</td>\n",
       "      <td>0.0</td>\n",
       "      <td>0.0</td>\n",
       "      <td>0.000000</td>\n",
       "      <td>0.000000</td>\n",
       "      <td>0.588643</td>\n",
       "    </tr>\n",
       "    <tr>\n",
       "      <th>4</th>\n",
       "      <td>0.0</td>\n",
       "      <td>0.000000</td>\n",
       "      <td>0.0</td>\n",
       "      <td>0.0</td>\n",
       "      <td>0.746061</td>\n",
       "      <td>0.0</td>\n",
       "      <td>0.0</td>\n",
       "      <td>0.0</td>\n",
       "      <td>0.0</td>\n",
       "      <td>0.000000</td>\n",
       "      <td>...</td>\n",
       "      <td>0.0</td>\n",
       "      <td>0.000000</td>\n",
       "      <td>0.0</td>\n",
       "      <td>0.000000</td>\n",
       "      <td>0.0</td>\n",
       "      <td>0.0</td>\n",
       "      <td>0.0</td>\n",
       "      <td>0.000000</td>\n",
       "      <td>0.000000</td>\n",
       "      <td>0.000000</td>\n",
       "    </tr>\n",
       "  </tbody>\n",
       "</table>\n",
       "<p>5 rows × 113 columns</p>\n",
       "</div>"
      ],
      "text/plain": [
       "   0         1    2    3         4    5    6    7    8         9    ...  103  \\\n",
       "0  0.0  0.000000  0.0  0.0  0.000000  0.0  0.0  0.0  0.0  0.000000  ...  0.0   \n",
       "1  0.0  0.000000  0.0  0.0  0.000000  0.0  0.0  0.0  0.0  0.000000  ...  0.0   \n",
       "2  0.0  0.282018  0.0  0.0  0.000000  0.0  0.0  0.0  0.0  0.282018  ...  0.0   \n",
       "3  0.0  0.000000  0.0  0.0  0.000000  0.0  0.0  0.0  0.0  0.000000  ...  0.0   \n",
       "4  0.0  0.000000  0.0  0.0  0.746061  0.0  0.0  0.0  0.0  0.000000  ...  0.0   \n",
       "\n",
       "        104  105       106  107  108  109       110       111       112  \n",
       "0  0.000000  0.0  0.548305  0.0  0.0  0.0  0.000000  0.000000  0.000000  \n",
       "1  0.250577  0.0  0.000000  0.0  0.0  0.0  0.250577  0.295391  0.000000  \n",
       "2  0.213521  0.0  0.000000  0.0  0.0  0.0  0.000000  0.000000  0.000000  \n",
       "3  0.000000  0.0  0.000000  0.0  0.0  0.0  0.000000  0.000000  0.588643  \n",
       "4  0.000000  0.0  0.000000  0.0  0.0  0.0  0.000000  0.000000  0.000000  \n",
       "\n",
       "[5 rows x 113 columns]"
      ]
     },
     "execution_count": 17,
     "metadata": {},
     "output_type": "execute_result"
    }
   ],
   "source": [
    "V=pd.DataFrame(data=X_2)\n",
    "V.head()"
   ]
  },
  {
   "cell_type": "markdown",
   "metadata": {},
   "source": [
    "# Solving some Example."
   ]
  },
  {
   "cell_type": "code",
   "execution_count": 18,
   "metadata": {},
   "outputs": [],
   "source": [
    "paragraph_1=\"\"\"Taking a veiled dig at the BJP, Banerjee also noted how “pained” she is at these “surprising and baseless” allegations about Sen’s familial properties. She added that she wanted to express her solidarity with him in his battles against the “bigotry of the majoritarians” in the country. The West Bengal CM then urged Sen to count her as his “sister and friend,” adding that he shouldn’t be daunted by these accusations. “We shall overcome,” she said in her letter.\n",
    "\n",
    "Banerjee’s letter to Sen comes a day after she was accused by the BJP of “skipping” the centenary year celebrations of the university, which were addressed by prime minister Narendra Modi. The chief minister’s Trinamool Congress (TMC) responded, claiming that she “wasn’t invited” for the ceremony.\n",
    "\n",
    "The episode has emerged as the latest flashpoint between the two parties as the BJP aims to defeat the TMC in next year’s assembly polls to end Banerjee’s 10-year term as the chief minister, and, in the process, form its maiden government in West Bengal.\n",
    "\n",
    "The Visva-Bharati University was established on December 23, 1924, by India’s first Nobel laureate, Rabindranath Tagore.\"\"\""
   ]
  },
  {
   "cell_type": "code",
   "execution_count": 19,
   "metadata": {},
   "outputs": [],
   "source": [
    "import nltk\n",
    "from nltk.stem import PorterStemmer\n",
    "from nltk.corpus import stopwords\n",
    "from nltk.stem import WordNetLemmatizer\n",
    "sentences=nltk.sent_tokenize(paragraph_1)"
   ]
  },
  {
   "cell_type": "code",
   "execution_count": 20,
   "metadata": {},
   "outputs": [
    {
     "data": {
      "text/plain": [
       "['Taking a veiled dig at the BJP, Banerjee also noted how “pained” she is at these “surprising and baseless” allegations about Sen’s familial properties.',\n",
       " 'She added that she wanted to express her solidarity with him in his battles against the “bigotry of the majoritarians” in the country.',\n",
       " 'The West Bengal CM then urged Sen to count her as his “sister and friend,” adding that he shouldn’t be daunted by these accusations.',\n",
       " '“We shall overcome,” she said in her letter.',\n",
       " 'Banerjee’s letter to Sen comes a day after she was accused by the BJP of “skipping” the centenary year celebrations of the university, which were addressed by prime minister Narendra Modi.',\n",
       " 'The chief minister’s Trinamool Congress (TMC) responded, claiming that she “wasn’t invited” for the ceremony.',\n",
       " 'The episode has emerged as the latest flashpoint between the two parties as the BJP aims to defeat the TMC in next year’s assembly polls to end Banerjee’s 10-year term as the chief minister, and, in the process, form its maiden government in West Bengal.',\n",
       " 'The Visva-Bharati University was established on December 23, 1924, by India’s first Nobel laureate, Rabindranath Tagore.']"
      ]
     },
     "execution_count": 20,
     "metadata": {},
     "output_type": "execute_result"
    }
   ],
   "source": [
    "sentences"
   ]
  },
  {
   "cell_type": "code",
   "execution_count": 21,
   "metadata": {},
   "outputs": [
    {
     "name": "stdout",
     "output_type": "stream",
     "text": [
      "['Taking', 'a', 'veiled', 'dig', 'at', 'the', 'BJP', ',', 'Banerjee', 'also', 'noted', 'how', '“', 'pained', '”', 'she', 'is', 'at', 'these', '“', 'surprising', 'and', 'baseless', '”', 'allegations', 'about', 'Sen', '’', 's', 'familial', 'properties', '.', 'She', 'added', 'that', 'she', 'wanted', 'to', 'express', 'her', 'solidarity', 'with', 'him', 'in', 'his', 'battles', 'against', 'the', '“', 'bigotry', 'of', 'the', 'majoritarians', '”', 'in', 'the', 'country', '.', 'The', 'West', 'Bengal', 'CM', 'then', 'urged', 'Sen', 'to', 'count', 'her', 'as', 'his', '“', 'sister', 'and', 'friend', ',', '”', 'adding', 'that', 'he', 'shouldn', '’', 't', 'be', 'daunted', 'by', 'these', 'accusations', '.', '“', 'We', 'shall', 'overcome', ',', '”', 'she', 'said', 'in', 'her', 'letter', '.', 'Banerjee', '’', 's', 'letter', 'to', 'Sen', 'comes', 'a', 'day', 'after', 'she', 'was', 'accused', 'by', 'the', 'BJP', 'of', '“', 'skipping', '”', 'the', 'centenary', 'year', 'celebrations', 'of', 'the', 'university', ',', 'which', 'were', 'addressed', 'by', 'prime', 'minister', 'Narendra', 'Modi', '.', 'The', 'chief', 'minister', '’', 's', 'Trinamool', 'Congress', '(', 'TMC', ')', 'responded', ',', 'claiming', 'that', 'she', '“', 'wasn', '’', 't', 'invited', '”', 'for', 'the', 'ceremony', '.', 'The', 'episode', 'has', 'emerged', 'as', 'the', 'latest', 'flashpoint', 'between', 'the', 'two', 'parties', 'as', 'the', 'BJP', 'aims', 'to', 'defeat', 'the', 'TMC', 'in', 'next', 'year', '’', 's', 'assembly', 'polls', 'to', 'end', 'Banerjee', '’', 's', '10-year', 'term', 'as', 'the', 'chief', 'minister', ',', 'and', ',', 'in', 'the', 'process', ',', 'form', 'its', 'maiden', 'government', 'in', 'West', 'Bengal', '.', 'The', 'Visva-Bharati', 'University', 'was', 'established', 'on', 'December', '23', ',', '1924', ',', 'by', 'India', '’', 's', 'first', 'Nobel', 'laureate', ',', 'Rabindranath', 'Tagore', '.']\n"
     ]
    }
   ],
   "source": [
    "words=nltk.word_tokenize(paragraph_1)\n",
    "print(words)"
   ]
  },
  {
   "cell_type": "code",
   "execution_count": 22,
   "metadata": {},
   "outputs": [
    {
     "name": "stdout",
     "output_type": "stream",
     "text": [
      "['Taking', 'a', 'veiled', 'dig', 'at', 'the', 'BJP', 'Banerjee', 'also', 'noted', 'how', 'pained', 'she', 'is', 'at', 'these', 'surprising', 'and', 'baseless', 'allegations', 'about', 'Sen', 's', 'familial', 'properties', 'She', 'added', 'that', 'she', 'wanted', 'to', 'express', 'her', 'solidarity', 'with', 'him', 'in', 'his', 'battles', 'against', 'the', 'bigotry', 'of', 'the', 'majoritarians', 'in', 'the', 'country', 'The', 'West', 'Bengal', 'CM', 'then', 'urged', 'Sen', 'to', 'count', 'her', 'as', 'his', 'sister', 'and', 'friend', 'adding', 'that', 'he', 'shouldn', 't', 'be', 'daunted', 'by', 'these', 'accusations', 'We', 'shall', 'overcome', 'she', 'said', 'in', 'her', 'letter', 'Banerjee', 's', 'letter', 'to', 'Sen', 'comes', 'a', 'day', 'after', 'she', 'was', 'accused', 'by', 'the', 'BJP', 'of', 'skipping', 'the', 'centenary', 'year', 'celebrations', 'of', 'the', 'university', 'which', 'were', 'addressed', 'by', 'prime', 'minister', 'Narendra', 'Modi', 'The', 'chief', 'minister', 's', 'Trinamool', 'Congress', 'TMC', 'responded', 'claiming', 'that', 'she', 'wasn', 't', 'invited', 'for', 'the', 'ceremony', 'The', 'episode', 'has', 'emerged', 'as', 'the', 'latest', 'flashpoint', 'between', 'the', 'two', 'parties', 'as', 'the', 'BJP', 'aims', 'to', 'defeat', 'the', 'TMC', 'in', 'next', 'year', 's', 'assembly', 'polls', 'to', 'end', 'Banerjee', 's', '10', 'year', 'term', 'as', 'the', 'chief', 'minister', 'and', 'in', 'the', 'process', 'form', 'its', 'maiden', 'government', 'in', 'West', 'Bengal', 'The', 'Visva', 'Bharati', 'University', 'was', 'established', 'on', 'December', '23', '1924', 'by', 'India', 's', 'first', 'Nobel', 'laureate', 'Rabindranath', 'Tagore']\n"
     ]
    }
   ],
   "source": [
    "# Removing all the punctuation marks in the sentences\n",
    "from nltk.tokenize import RegexpTokenizer\n",
    "tokenizer=RegexpTokenizer(r\"\\w+\")\n",
    "new_words=tokenizer.tokenize(paragraph_1)\n",
    "print(new_words)"
   ]
  },
  {
   "cell_type": "code",
   "execution_count": 23,
   "metadata": {},
   "outputs": [],
   "source": [
    "# Now we need to clean our data and preprocess it\n",
    "from nltk.tokenize import RegexpTokenizer\n",
    "lemmatizer=WordNetLemmatizer()\n",
    "for i in range(len(sentences)):\n",
    "    words=nltk.word_tokenize(sentences[i])\n",
    "    words=[lemmatizer.lemmatize(word.lower()) for word in words if word not in set(stopwords.words('english'))]\n",
    "    sentences[i] = ' '.join(words)"
   ]
  },
  {
   "cell_type": "code",
   "execution_count": 24,
   "metadata": {},
   "outputs": [
    {
     "data": {
      "text/plain": [
       "['taking veiled dig bjp , banerjee also noted “ pained ” “ surprising baseless ” allegation sen ’ familial property .',\n",
       " 'she added wanted express solidarity battle “ bigotry majoritarians ” country .',\n",
       " 'the west bengal cm urged sen count “ sister friend , ” adding ’ daunted accusation .',\n",
       " '“ we shall overcome , ” said letter .',\n",
       " 'banerjee ’ letter sen come day accused bjp “ skipping ” centenary year celebration university , addressed prime minister narendra modi .',\n",
       " 'the chief minister ’ trinamool congress ( tmc ) responded , claiming “ ’ invited ” ceremony .',\n",
       " 'the episode emerged latest flashpoint two party bjp aim defeat tmc next year ’ assembly poll end banerjee ’ 10-year term chief minister , , process , form maiden government west bengal .',\n",
       " 'the visva-bharati university established december 23 , 1924 , india ’ first nobel laureate , rabindranath tagore .']"
      ]
     },
     "execution_count": 24,
     "metadata": {},
     "output_type": "execute_result"
    }
   ],
   "source": [
    "sentences"
   ]
  },
  {
   "cell_type": "code",
   "execution_count": null,
   "metadata": {},
   "outputs": [],
   "source": []
  }
 ],
 "metadata": {
  "kernelspec": {
   "display_name": "Python 3",
   "language": "python",
   "name": "python3"
  },
  "language_info": {
   "codemirror_mode": {
    "name": "ipython",
    "version": 3
   },
   "file_extension": ".py",
   "mimetype": "text/x-python",
   "name": "python",
   "nbconvert_exporter": "python",
   "pygments_lexer": "ipython3",
   "version": "3.8.0"
  }
 },
 "nbformat": 4,
 "nbformat_minor": 4
}
