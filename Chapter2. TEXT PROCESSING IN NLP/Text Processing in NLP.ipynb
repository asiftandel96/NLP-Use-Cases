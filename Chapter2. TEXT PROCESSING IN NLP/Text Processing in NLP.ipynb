{
 "cells": [
  {
   "cell_type": "markdown",
   "metadata": {
    "colab_type": "text",
    "id": "XbfeYqCSJFm5"
   },
   "source": [
    "Suppose, We're in a situation to create a Sentiment analysis model, we have the dataset available but the problem here is machine will not going to understand the sentences of any languages, we have to clean those dataset by using stopwords, deleting punctuation and many more irrelevant things inside the data and We have to make it upto that level where we can feed those data to our machine or deep learning algorithms from that we can get some output with it.\n",
    "\n",
    "We are assuming you have a knowledge of Python, and if not, nothing to worry, we will give you some overview of it.\n",
    "\n",
    "## 1.Python String\n",
    "\n",
    "A String is like a sequence of Characters.\n",
    "\n",
    "A character is just a symbol.Like, the English language has 26 characters.\n",
    "\n",
    "Computers don't deal with characters,they deal with binary(numbers) only. Even though you seen characters but internally it is stored and manipulated with the combination of 0's and 1's.\n",
    "The conversion of character to a number is known as encoding, and the reverse is decoding.\n",
    "\n",
    "String literally surrounded by a single or double quotations like:"
   ]
  },
  {
   "cell_type": "code",
   "execution_count": 47,
   "metadata": {
    "colab": {
     "base_uri": "https://localhost:8080/",
     "height": 34
    },
    "colab_type": "code",
    "executionInfo": {
     "elapsed": 2473,
     "status": "ok",
     "timestamp": 1587308620144,
     "user": {
      "displayName": "Plaban Nayak",
      "photoUrl": "https://lh3.googleusercontent.com/a-/AOh14GhpiPuIKtntBPYdHxwHUqqujeyZU8kubjFK_d6IAg=s64",
      "userId": "08012991239448816971"
     },
     "user_tz": -330
    },
    "id": "lqH5og0gJFm8",
    "outputId": "e92cb9d6-524c-4c3c-a92f-103a559df39c"
   },
   "outputs": [
    {
     "name": "stdout",
     "output_type": "stream",
     "text": [
      "iNeuron\n"
     ]
    }
   ],
   "source": [
    "a = \"iNeuron\"\n",
    "print(a)"
   ]
  },
  {
   "cell_type": "markdown",
   "metadata": {
    "colab_type": "text",
    "id": "1RCXneoOJFnJ"
   },
   "source": [
    "### Strings are arrays\n",
    "\n",
    "Like in other popular programming languages, strings in Python are arrays of bytes represents unicode characters.\n",
    "\n",
    "However, Python doesn't have the character as the datatype, single character is just simply a string with length of 1.\n",
    "\n",
    "We used square bracket to access elements from the string."
   ]
  },
  {
   "cell_type": "code",
   "execution_count": 48,
   "metadata": {
    "colab": {
     "base_uri": "https://localhost:8080/",
     "height": 34
    },
    "colab_type": "code",
    "executionInfo": {
     "elapsed": 4758,
     "status": "ok",
     "timestamp": 1587308636792,
     "user": {
      "displayName": "Plaban Nayak",
      "photoUrl": "https://lh3.googleusercontent.com/a-/AOh14GhpiPuIKtntBPYdHxwHUqqujeyZU8kubjFK_d6IAg=s64",
      "userId": "08012991239448816971"
     },
     "user_tz": -330
    },
    "id": "gNB6lImmJFnK",
    "outputId": "5dbe17be-a2b0-4396-a01d-eea70538baa2"
   },
   "outputs": [
    {
     "name": "stdout",
     "output_type": "stream",
     "text": [
      "r\n"
     ]
    }
   ],
   "source": [
    "#Get the character at position 4(Here, indexing starts from 0)\n",
    "a = \"iNeuron\"\n",
    "print(a[4])  "
   ]
  },
  {
   "cell_type": "markdown",
   "metadata": {
    "colab_type": "text",
    "id": "Dfs-JIeSJFnS"
   },
   "source": [
    "### Slicing\n",
    "\n",
    "You can get the output upto certain range of characters by using the slicing index.\n",
    "\n",
    "Specify the start index and end index, which is separated by colon, to return a part of the string."
   ]
  },
  {
   "cell_type": "code",
   "execution_count": 49,
   "metadata": {
    "colab": {},
    "colab_type": "code",
    "id": "I6T0u262JFnT",
    "outputId": "a74326eb-02d8-4bb5-a521-4ed94c2beefe"
   },
   "outputs": [
    {
     "name": "stdout",
     "output_type": "stream",
     "text": [
      "uro\n",
      "--------------------------------------------------\n",
      "Neur\n",
      "--------------------------------------------------\n",
      "er\n"
     ]
    }
   ],
   "source": [
    "#To get the output from the position 3 to 6(not included)\n",
    "a = \"iNeuron\"\n",
    "print(a[3:6])\n",
    "print(\"-\" * 50)\n",
    "#To get the output by negative indexing from -6 position to -2 position.\n",
    "print(a[-6:-2])\n",
    "print(\"-\" * 50)\n",
    "#Get the results from position 2 to 6 but give result with the increment of 2.\n",
    "print(a[2:6:2])"
   ]
  },
  {
   "cell_type": "markdown",
   "metadata": {
    "colab_type": "text",
    "id": "JHou4XVkJFnc"
   },
   "source": [
    "### String Methods \n",
    "\n",
    "Python have set of built-in methods that you can use on strings."
   ]
  },
  {
   "cell_type": "code",
   "execution_count": 53,
   "metadata": {
    "colab": {
     "base_uri": "https://localhost:8080/",
     "height": 34
    },
    "colab_type": "code",
    "executionInfo": {
     "elapsed": 2267,
     "status": "ok",
     "timestamp": 1587308653748,
     "user": {
      "displayName": "Plaban Nayak",
      "photoUrl": "https://lh3.googleusercontent.com/a-/AOh14GhpiPuIKtntBPYdHxwHUqqujeyZU8kubjFK_d6IAg=s64",
      "userId": "08012991239448816971"
     },
     "user_tz": -330
    },
    "id": "AaM_dDq7JFnd",
    "outputId": "cc397064-ed5f-43fe-a7b4-b65e6df20418"
   },
   "outputs": [
    {
     "name": "stdout",
     "output_type": "stream",
     "text": [
      "Wall time: 0 ns\n",
      "['iNeuron']\n"
     ]
    }
   ],
   "source": [
    "#strip() will remove whitespace in the string from begining to the end.\n",
    "%time\n",
    "a = \" iNeuron \"\n",
    "print(a.split())"
   ]
  },
  {
   "cell_type": "code",
   "execution_count": 54,
   "metadata": {
    "colab": {
     "base_uri": "https://localhost:8080/",
     "height": 51
    },
    "colab_type": "code",
    "executionInfo": {
     "elapsed": 1091,
     "status": "ok",
     "timestamp": 1587308668621,
     "user": {
      "displayName": "Plaban Nayak",
      "photoUrl": "https://lh3.googleusercontent.com/a-/AOh14GhpiPuIKtntBPYdHxwHUqqujeyZU8kubjFK_d6IAg=s64",
      "userId": "08012991239448816971"
     },
     "user_tz": -330
    },
    "id": "YiVPNNB2JFnm",
    "outputId": "c60724b2-ab81-4b64-ce6b-fa129e1ee371"
   },
   "outputs": [
    {
     "name": "stdout",
     "output_type": "stream",
     "text": [
      "ineuron\n",
      "INEURON\n"
     ]
    }
   ],
   "source": [
    "#lower() will lowercase the words which are upper in the sentences.\n",
    "a = \"iNeuron\"\n",
    "print(a.lower())\n",
    "\n",
    "#upper() will transform lowercase into upper.\n",
    "print(a.upper())"
   ]
  },
  {
   "cell_type": "code",
   "execution_count": 59,
   "metadata": {
    "colab": {
     "base_uri": "https://localhost:8080/",
     "height": 34
    },
    "colab_type": "code",
    "executionInfo": {
     "elapsed": 1096,
     "status": "ok",
     "timestamp": 1587308671430,
     "user": {
      "displayName": "Plaban Nayak",
      "photoUrl": "https://lh3.googleusercontent.com/a-/AOh14GhpiPuIKtntBPYdHxwHUqqujeyZU8kubjFK_d6IAg=s64",
      "userId": "08012991239448816971"
     },
     "user_tz": -330
    },
    "id": "JxWGgRs6JFnv",
    "outputId": "00e70199-9020-45a2-b8c2-77f6d6a55933"
   },
   "outputs": [
    {
     "name": "stdout",
     "output_type": "stream",
     "text": [
      "Hello Neuron\n"
     ]
    }
   ],
   "source": [
    "#replace() will work like replace one string with another string.\n",
    "a = \"iNeuron\"\n",
    "print(a.replace(\"i\", \"Hello \"))"
   ]
  },
  {
   "cell_type": "code",
   "execution_count": 60,
   "metadata": {
    "colab": {
     "base_uri": "https://localhost:8080/",
     "height": 34
    },
    "colab_type": "code",
    "executionInfo": {
     "elapsed": 1399,
     "status": "ok",
     "timestamp": 1587308679315,
     "user": {
      "displayName": "Plaban Nayak",
      "photoUrl": "https://lh3.googleusercontent.com/a-/AOh14GhpiPuIKtntBPYdHxwHUqqujeyZU8kubjFK_d6IAg=s64",
      "userId": "08012991239448816971"
     },
     "user_tz": -330
    },
    "id": "p11MMZuUJFn4",
    "outputId": "a2262cc8-76c7-4cde-da79-d0952d12db3e"
   },
   "outputs": [
    {
     "name": "stdout",
     "output_type": "stream",
     "text": [
      "['iNeur', 'n']\n"
     ]
    }
   ],
   "source": [
    "#split() will split the strings into substrings if it finds any instances of seprator.\n",
    "a = \"iNeuron\"\n",
    "print(a.split(\"o\"))"
   ]
  },
  {
   "cell_type": "markdown",
   "metadata": {
    "colab_type": "text",
    "id": "N3xSmTR6JFoA"
   },
   "source": [
    "### String Concatenation\n",
    "\n",
    "To concatenate or combine two strings by use of + operator."
   ]
  },
  {
   "cell_type": "code",
   "execution_count": 61,
   "metadata": {
    "colab": {
     "base_uri": "https://localhost:8080/",
     "height": 34
    },
    "colab_type": "code",
    "executionInfo": {
     "elapsed": 1245,
     "status": "ok",
     "timestamp": 1587308684316,
     "user": {
      "displayName": "Plaban Nayak",
      "photoUrl": "https://lh3.googleusercontent.com/a-/AOh14GhpiPuIKtntBPYdHxwHUqqujeyZU8kubjFK_d6IAg=s64",
      "userId": "08012991239448816971"
     },
     "user_tz": -330
    },
    "id": "s_olPIBHJFoB",
    "outputId": "5e0ab97c-6436-4e56-a613-98dc22ceeb99"
   },
   "outputs": [
    {
     "name": "stdout",
     "output_type": "stream",
     "text": [
      "iNeuron Data\n"
     ]
    }
   ],
   "source": [
    "a = \"iNeuron\"\n",
    "b = \"Data\"\n",
    "print(a +\" \"+ b)"
   ]
  },
  {
   "cell_type": "markdown",
   "metadata": {
    "colab_type": "text",
    "id": "E4ncmQyZJFoI"
   },
   "source": [
    "## Import text\n",
    "\n",
    "In NLP your dataset would be in .txt, .csv type of format, you need to import it and try to clean the irrelevant datas from the dataset.Here we'll going to understand Python file handling:create,open,read,append,write.\n",
    "\n",
    "### Create a text file \n",
    "With the use of python you can create the text files by using code,we have demostrated here how you can do this."
   ]
  },
  {
   "cell_type": "code",
   "execution_count": 0,
   "metadata": {
    "colab": {
     "base_uri": "https://localhost:8080/",
     "height": 74,
     "resources": {
      "http://localhost:8080/nbextensions/google.colab/files.js": {
       "data": "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",
       "headers": [
        [
         "content-type",
         "application/javascript"
        ]
       ],
       "ok": true,
       "status": 200,
       "status_text": ""
      }
     }
    },
    "colab_type": "code",
    "executionInfo": {
     "elapsed": 8943,
     "status": "ok",
     "timestamp": 1587308886028,
     "user": {
      "displayName": "Plaban Nayak",
      "photoUrl": "https://lh3.googleusercontent.com/a-/AOh14GhpiPuIKtntBPYdHxwHUqqujeyZU8kubjFK_d6IAg=s64",
      "userId": "08012991239448816971"
     },
     "user_tz": -330
    },
    "id": "SBkimiN0JFoK",
    "outputId": "25917268-5204-40f0-cd49-db202dc1f997"
   },
   "outputs": [
    {
     "data": {
      "text/html": [
       "\n",
       "     <input type=\"file\" id=\"files-7265cfa1-4174-43b9-a5c6-d2eaf40d2418\" name=\"files[]\" multiple disabled />\n",
       "     <output id=\"result-7265cfa1-4174-43b9-a5c6-d2eaf40d2418\">\n",
       "      Upload widget is only available when the cell has been executed in the\n",
       "      current browser session. Please rerun this cell to enable.\n",
       "      </output>\n",
       "      <script src=\"/nbextensions/google.colab/files.js\"></script> "
      ],
      "text/plain": [
       "<IPython.core.display.HTML object>"
      ]
     },
     "metadata": {
      "tags": []
     },
     "output_type": "display_data"
    },
    {
     "name": "stdout",
     "output_type": "stream",
     "text": [
      "Saving iNeuron.txt to iNeuron.txt\n"
     ]
    }
   ],
   "source": [
    "#Step1\n",
    "from google.colab import files\n",
    "files.upload()\n",
    "file = open(\"iNeuron.txt\", \"w+\")"
   ]
  },
  {
   "cell_type": "markdown",
   "metadata": {
    "colab_type": "text",
    "id": "sB8I0qJZJFoQ"
   },
   "source": [
    "- Here we declared file as a variable to open a file named iNeuron.txt.Open takes two arguemnets, first one is for the file we want to open and second one represents some kind of permissions or operation we want to do into that file.\n",
    "- Here we taken \"w\" letter as an arguemnt, which indicates write and will create a file if it is not exist in the library.\n",
    "- That \"+\" signs indicate both read and write.\n",
    "- The other option beside \"w\" are, \"r\" for read, and \"a\" for append."
   ]
  },
  {
   "cell_type": "code",
   "execution_count": 0,
   "metadata": {
    "colab": {},
    "colab_type": "code",
    "id": "hMV1s2uJJFoR"
   },
   "outputs": [],
   "source": [
    "#Step2\n",
    "\n",
    "for i in range(5):\n",
    "    file.write(\"Line number is %d\\r\\n\" % (i+1))"
   ]
  },
  {
   "cell_type": "markdown",
   "metadata": {
    "colab_type": "text",
    "id": "WQLPAlufJFoY"
   },
   "source": [
    "- We have a loop that runs over a range of 5 numbers.\n",
    "- Here using the **Write** function for entering data into the file.\n",
    "- The Output we want to iterate in the file is \"Line number is\", which we already declared with write function and then percent d(display integers)"
   ]
  },
  {
   "cell_type": "code",
   "execution_count": 0,
   "metadata": {
    "colab": {},
    "colab_type": "code",
    "id": "5QrhUv6UJFoZ"
   },
   "outputs": [],
   "source": [
    "#Step3\n",
    "\n",
    "file.close()"
   ]
  },
  {
   "cell_type": "markdown",
   "metadata": {
    "colab_type": "text",
    "id": "9hORzMbhJFoe"
   },
   "source": [
    "- This will close the instance of the file iNeuron.txt stored."
   ]
  },
  {
   "cell_type": "markdown",
   "metadata": {
    "colab_type": "text",
    "id": "51VhJCNcJFof"
   },
   "source": [
    "- Here is the result after the execution of code.\n",
    "<img src=\".\\Images\\8.png\">"
   ]
  },
  {
   "cell_type": "markdown",
   "metadata": {
    "colab_type": "text",
    "id": "ab7fXnrzJFog"
   },
   "source": [
    "### Append data to a file\n",
    "\n",
    "You can also append a new text inside the existing file or in a new file."
   ]
  },
  {
   "cell_type": "code",
   "execution_count": 0,
   "metadata": {
    "colab": {},
    "colab_type": "code",
    "id": "neAko5mCJFoh"
   },
   "outputs": [],
   "source": [
    "#Step1\n",
    "\n",
    "file = open(\"iNeuron.txt\", \"a+\")"
   ]
  },
  {
   "cell_type": "markdown",
   "metadata": {
    "colab_type": "text",
    "id": "dDqwN0C8JFon"
   },
   "source": [
    "Once again \"+\" sign is in the code which means if .txt file are not available, this plus sign will create a new file but here is not any requirement to create a new file."
   ]
  },
  {
   "cell_type": "code",
   "execution_count": 0,
   "metadata": {
    "colab": {},
    "colab_type": "code",
    "id": "Sd6xqwsaJFoo"
   },
   "outputs": [],
   "source": [
    "#Step2\n",
    "\n",
    "for i in range(3):\n",
    "    file.write(\"Appending Line number %d\\r\\n\" %(i+1))"
   ]
  },
  {
   "cell_type": "markdown",
   "metadata": {
    "colab_type": "text",
    "id": "-pCjkwMTJFos"
   },
   "source": [
    "This will write data into a file in append mode."
   ]
  },
  {
   "cell_type": "code",
   "execution_count": 0,
   "metadata": {
    "colab": {},
    "colab_type": "code",
    "id": "R9AfPxUSJFot"
   },
   "outputs": [],
   "source": [
    "#Step3\n",
    "\n",
    "file.close()"
   ]
  },
  {
   "cell_type": "markdown",
   "metadata": {
    "colab_type": "text",
    "id": "qrjwiS-3JFoz"
   },
   "source": [
    "We seen earlier this close function will close the instance of the file iNeuron.txt stored."
   ]
  },
  {
   "cell_type": "markdown",
   "metadata": {
    "colab_type": "text",
    "id": "8eggYmBhJFo0"
   },
   "source": [
    "### Read the files\n",
    "\n",
    "Not only you create .txt files in Python but you can also call .txt file in a \"read mode\"(r). "
   ]
  },
  {
   "cell_type": "code",
   "execution_count": 0,
   "metadata": {
    "colab": {},
    "colab_type": "code",
    "id": "NIXdViShJFo2"
   },
   "outputs": [],
   "source": [
    "#Step1. Open the file in read mode\n",
    "\n",
    "file = open(\"iNeuron.txt\", \"r\")"
   ]
  },
  {
   "cell_type": "code",
   "execution_count": 0,
   "metadata": {
    "colab": {},
    "colab_type": "code",
    "id": "pnItli4dJFo8"
   },
   "outputs": [],
   "source": [
    "#Step2. Here we'll check, is our file is open or not, if yes we proceed\n",
    "\n",
    "if file.mode == 'r':\n",
    "    content = file.read() #We used file.read() for reading the file data and store it in a variable."
   ]
  },
  {
   "cell_type": "code",
   "execution_count": 0,
   "metadata": {
    "colab": {
     "base_uri": "https://localhost:8080/",
     "height": 187
    },
    "colab_type": "code",
    "executionInfo": {
     "elapsed": 1107,
     "status": "ok",
     "timestamp": 1587308960824,
     "user": {
      "displayName": "Plaban Nayak",
      "photoUrl": "https://lh3.googleusercontent.com/a-/AOh14GhpiPuIKtntBPYdHxwHUqqujeyZU8kubjFK_d6IAg=s64",
      "userId": "08012991239448816971"
     },
     "user_tz": -330
    },
    "id": "4wXxT-0VJFpB",
    "outputId": "c6e6824e-1fa5-4a12-fc95-c7eca1465e3b"
   },
   "outputs": [
    {
     "name": "stdout",
     "output_type": "stream",
     "text": [
      "Line number is 1\n",
      "Line number is 2\n",
      "Line number is 3\n",
      "Line number is 4\n",
      "Line number is 5\n",
      "Appending Line number 1\n",
      "Appending Line number 2\n",
      "Appending Line number 3\n",
      "\n",
      "Here is the output!\n"
     ]
    }
   ],
   "source": [
    "#Step3. Printing the file\n",
    "print(content)\n",
    "print(\"Here is the output!\")"
   ]
  },
  {
   "cell_type": "markdown",
   "metadata": {
    "colab_type": "text",
    "id": "_KJH9VYvJFpF"
   },
   "source": [
    "### Files mode in Python\n",
    "\n",
    "<img src=\".\\Images\\9.png\">"
   ]
  },
  {
   "cell_type": "code",
   "execution_count": 0,
   "metadata": {
    "colab": {},
    "colab_type": "code",
    "id": "2HwatrivJFpG"
   },
   "outputs": [],
   "source": []
  },
  {
   "cell_type": "markdown",
   "metadata": {
    "colab_type": "text",
    "id": "GHWgkdgOJFpK"
   },
   "source": [
    "## Web Scraping with Python\n",
    "\n",
    "Suppose you have to pull large amount of data from websites and you want to fetch it as quickly as possible. How would you do it? Manually going to the website and collect those datas.It will be tedious work. So, \"web scrapping\" will help you out in this situation. Web scrapping just makes this job easier and faster.\n",
    "\n",
    "Here, we will do Web Scrapping with Python, starts with\n",
    "\n",
    "1. Why we do web scrapping?\n",
    "Web scrapping will be used to collect large amount of data from Websites.But why does someone have to collect such large amount of data from websites? To know about this, let's have to look at the applications of web scrapping:\n",
    "\n",
    "- __Price comaparison:__ Parsehub is providing such services to useweb scraping to collect data from some online shopping websites and use to comapre price of products from another.\n",
    "- __Gathering Emails:__ There are lots of companies that use emails as a medium for marketing, they use web scrapping to collect email id's and send bulk emails.\n",
    "- __Social media scrapping:__ Web scrapping is used to collect data from Social Media websites such as Twitter to find out what's trending in twitter.\n",
    "- __Research and Development:__ For reasearch purposes people do web scrapping to collect a large set of data(Statistics, General information, temperature,etc.) from websites, which are analyzed and used to carry out surveys or for R&D.\n",
    "\n",
    "\n",
    "2. What is Web scrapping and is it legal or not?\n",
    "Web scrapping is an automated to extract large amount of data from websites.And the websites data are unstructured most of the time.Web scrapping will help you out to collect those unstructured data and stored it in a structured form.There are different ways to scrape websites such as online services,APIs, or by writing your own code. Here, we'll see how to implementing the web scraping with python.\n",
    "\n",
    "Coming to the question, is scrapping legal or not? Some websites allow web scrapping and some not.To know whether website allows you to scrape it or not by website's \"robots.txt\" file. You can find this file just append \"/robots.txt\" to the URL that you want to scrape.Here, we're scrapping from Flipkart website.So, to see the \"robots.txt\" file, URL is www.flipkart.com/robots.txt. \n",
    "\n",
    "3. How does web scrapping work?\n",
    "\n",
    "When we run the code for web scraping, a request is sent to the URL that you have mentioned in the code. As a response to the request, the server send the data and allows you to read the HTML or XML page. Then our code will parses the HTML or XML page, find the data and extract it.\n",
    "\n",
    "To extract datas using web scraping with python, you need to follow these basic steps:\n",
    "\n",
    "  1.Find that URL that you mentioned in the code and want to scrape it.\n",
    "  2.Inspect the Page for scraping.\n",
    "  3.Find those data you want to extract.\n",
    "  4.Write the code for scrapping.\n",
    "  5.Run the code and extract the data.\n",
    "  6.Store the data in the required format.\n",
    "  \n",
    "Now lets see how to extract data from the flipkart website using Python.\n",
    "\n",
    "4. Libraries used for Web scrapping\n",
    "\n",
    "We already know, that python used for various applications and there are different libraries for different purposes.In this, we're using the following libraries:\n",
    "\n",
    "- **Selenium:** Selenium library is used for web testing. We will use to automate browser activities.\n",
    "- **BeautifulSoup4:** It is generally used for parsing HTML and XML documents.It creates a parse trees that is helpful to extract the datas easily.\n",
    "- **Pandas:** It is a Python library used for data manipulation and analysis.Pandas is used to extract data and stored it in the desired format.\n",
    "\n",
    "5. For Demo Purpose : Scrapping a Flipkart Website\n",
    "\n",
    "Pre-requisites:\n",
    "\n",
    " - Python 3.x with Selenium, Beautifulsoup4, Pandas library  installed.\n",
    " - Google Chrome Browser\n",
    " \n",
    "You can go through this [link](https://github.com/iNeuronai/webscrappper_text.git) for more details."
   ]
  },
  {
   "cell_type": "code",
   "execution_count": 0,
   "metadata": {
    "colab": {},
    "colab_type": "code",
    "id": "Qo91WUzNJFpL"
   },
   "outputs": [],
   "source": []
  },
  {
   "cell_type": "markdown",
   "metadata": {
    "colab_type": "text",
    "id": "AlPiVcIdJFpO"
   },
   "source": [
    "# Text Preprocessing\n",
    "\n",
    "Supose we have textual data available, we need to apply many of pre-processing steps to the data to transform those words into numerical features that work with machine learning algorithms.\n",
    "\n",
    "The pre-processing steps for the problem depend mainly on the domain and the problem itself.We don't need to apply all the steps for every problem.\n",
    "\n",
    "Here, we're going to see text preprocessing in Python. We'll use NLTK(Natural language toolkit) library here."
   ]
  },
  {
   "cell_type": "code",
   "execution_count": 62,
   "metadata": {
    "colab": {},
    "colab_type": "code",
    "id": "K4JGBS1TJFpP"
   },
   "outputs": [],
   "source": [
    "# import necessary libraries \n",
    "import nltk\n",
    "import string\n",
    "import re"
   ]
  },
  {
   "cell_type": "markdown",
   "metadata": {
    "colab_type": "text",
    "id": "FdD68bHhJFpT"
   },
   "source": [
    "### Text lowercase\n",
    "\n",
    "We do lowercase the text to reduce the size of the vocabulary of our text data."
   ]
  },
  {
   "cell_type": "code",
   "execution_count": 63,
   "metadata": {
    "colab": {
     "base_uri": "https://localhost:8080/",
     "height": 34
    },
    "colab_type": "code",
    "executionInfo": {
     "elapsed": 1310,
     "status": "ok",
     "timestamp": 1587309017005,
     "user": {
      "displayName": "Plaban Nayak",
      "photoUrl": "https://lh3.googleusercontent.com/a-/AOh14GhpiPuIKtntBPYdHxwHUqqujeyZU8kubjFK_d6IAg=s64",
      "userId": "08012991239448816971"
     },
     "user_tz": -330
    },
    "id": "YoXbKGUcJFpT",
    "outputId": "8980ae33-f59d-4f25-fabd-7a6c78061cf8"
   },
   "outputs": [
    {
     "data": {
      "text/plain": [
       "'weather is too cloudy.possiblity of rain is high,today!!'"
      ]
     },
     "execution_count": 63,
     "metadata": {},
     "output_type": "execute_result"
    }
   ],
   "source": [
    "def lowercase_text(text): \n",
    "    return text.lower() \n",
    "  \n",
    "input_str = \"Weather is too Cloudy.Possiblity of Rain is High,Today!!\"\n",
    "lowercase_text(input_str) "
   ]
  },
  {
   "cell_type": "code",
   "execution_count": 66,
   "metadata": {},
   "outputs": [
    {
     "data": {
      "text/plain": [
       "'THIS IS A DATA SCIENCE CLASS WHICH WILL COVERED TYPES SUCH AS STATISTICS,MACHINE LEARNING,PROBABILITY.'"
      ]
     },
     "execution_count": 66,
     "metadata": {},
     "output_type": "execute_result"
    }
   ],
   "source": [
    "#Text UpperCase\n",
    "\n",
    "def uppercase_text(text):\n",
    "    return text.upper()\n",
    "\n",
    "input_str=\"This is a Data Science Class which will covered types such as Statistics,Machine Learning,Probability.\"\n",
    "uppercase_text(input_str)"
   ]
  },
  {
   "cell_type": "markdown",
   "metadata": {
    "colab_type": "text",
    "id": "Kkx5nINIJFpa"
   },
   "source": [
    "### Remove numbers\n",
    "\n",
    "We should either remove the numbers or convert those numbers into textual representations.\n",
    "We use regular expressions(re) to remove the numbers."
   ]
  },
  {
   "cell_type": "code",
   "execution_count": 68,
   "metadata": {
    "colab": {
     "base_uri": "https://localhost:8080/",
     "height": 34
    },
    "colab_type": "code",
    "executionInfo": {
     "elapsed": 1091,
     "status": "ok",
     "timestamp": 1587309035442,
     "user": {
      "displayName": "Plaban Nayak",
      "photoUrl": "https://lh3.googleusercontent.com/a-/AOh14GhpiPuIKtntBPYdHxwHUqqujeyZU8kubjFK_d6IAg=s64",
      "userId": "08012991239448816971"
     },
     "user_tz": -330
    },
    "id": "rJxsrbYcJFpc",
    "outputId": "a6aefacb-c396-472d-ca86-3bbc8133b2e9"
   },
   "outputs": [
    {
     "data": {
      "text/plain": [
       "'You bought  candies from shop, and  candies are in home.'"
      ]
     },
     "execution_count": 68,
     "metadata": {},
     "output_type": "execute_result"
    }
   ],
   "source": [
    "# For Removing numbers \n",
    "def remove_num(text): \n",
    "    result = re.sub(r'\\d+', '', text) \n",
    "    return result \n",
    "  \n",
    "input_s = \"You bought 6 candies from shop, and 4 candies are in home.\"\n",
    "remove_num(input_s) "
   ]
  },
  {
   "cell_type": "markdown",
   "metadata": {
    "colab_type": "text",
    "id": "A2dGfGX2JFpg"
   },
   "source": [
    "As we mentioned above,you can also convert the numbers into words. This could be done by using the inflect library."
   ]
  },
  {
   "cell_type": "code",
   "execution_count": 18,
   "metadata": {},
   "outputs": [
    {
     "name": "stdout",
     "output_type": "stream",
     "text": [
      "Collecting inflect\n",
      "  Downloading inflect-5.3.0-py3-none-any.whl (32 kB)\n",
      "Installing collected packages: inflect\n",
      "Successfully installed inflect-5.3.0\n"
     ]
    }
   ],
   "source": [
    "!pip install inflect"
   ]
  },
  {
   "cell_type": "code",
   "execution_count": 69,
   "metadata": {
    "colab": {
     "base_uri": "https://localhost:8080/",
     "height": 34
    },
    "colab_type": "code",
    "executionInfo": {
     "elapsed": 1206,
     "status": "ok",
     "timestamp": 1587309127864,
     "user": {
      "displayName": "Plaban Nayak",
      "photoUrl": "https://lh3.googleusercontent.com/a-/AOh14GhpiPuIKtntBPYdHxwHUqqujeyZU8kubjFK_d6IAg=s64",
      "userId": "08012991239448816971"
     },
     "user_tz": -330
    },
    "id": "VafdwS3cJFph",
    "outputId": "f6ede2f6-6dcd-40b0-dbb9-72356824f1c1"
   },
   "outputs": [
    {
     "data": {
      "text/plain": [
       "'You bought six thousand, seven hundred and eighty-nine candies from shop, and four thousand, eight hundred and ninety candies are in home.'"
      ]
     },
     "execution_count": 69,
     "metadata": {},
     "output_type": "execute_result"
    }
   ],
   "source": [
    "# import the library \n",
    "import inflect \n",
    "q = inflect.engine() \n",
    "  \n",
    "# convert number into text \n",
    "def convert_num(text): \n",
    "    # split strings into list of texts \n",
    "    temp_string = text.split() \n",
    "    # initialise empty list \n",
    "    new_str = [] \n",
    "  \n",
    "    for word in temp_string: \n",
    "        # if text is a digit, convert the digit \n",
    "        # to numbers and append into the new_str list \n",
    "        if word.isdigit(): \n",
    "            temp = q.number_to_words(word) \n",
    "            new_str.append(temp) \n",
    "  \n",
    "        # append the texts as it is \n",
    "        else: \n",
    "            new_str.append(word) \n",
    "  \n",
    "    # join the texts of new_str to form a string \n",
    "    temp_str = ' '.join(new_str) \n",
    "    return temp_str \n",
    "  \n",
    "input_str = 'You bought 6789 candies from shop, and 4890 candies are in home.'\n",
    "convert_num(input_str)"
   ]
  },
  {
   "cell_type": "markdown",
   "metadata": {
    "colab_type": "text",
    "id": "506D4NxOJFpk"
   },
   "source": [
    "### Remove Punctuation\n",
    "\n",
    "We remove punctuations because of that we don't have different form of the same word. If we don't remove punctuations, then been, been, and been! will be treated separately."
   ]
  },
  {
   "cell_type": "code",
   "execution_count": 70,
   "metadata": {
    "colab": {
     "base_uri": "https://localhost:8080/",
     "height": 34
    },
    "colab_type": "code",
    "executionInfo": {
     "elapsed": 1087,
     "status": "ok",
     "timestamp": 1587309460129,
     "user": {
      "displayName": "Plaban Nayak",
      "photoUrl": "https://lh3.googleusercontent.com/a-/AOh14GhpiPuIKtntBPYdHxwHUqqujeyZU8kubjFK_d6IAg=s64",
      "userId": "08012991239448816971"
     },
     "user_tz": -330
    },
    "id": "5B5eCetpJFpl",
    "outputId": "5e1d6c91-8e5f-4cda-935f-b81cf491316c"
   },
   "outputs": [
    {
     "data": {
      "text/plain": [
       "'Hey Are you excited After a week we will be in Shimla'"
      ]
     },
     "execution_count": 70,
     "metadata": {},
     "output_type": "execute_result"
    }
   ],
   "source": [
    "# let's remove punctuation \n",
    "def rem_punct(text): \n",
    "    translator = str.maketrans('', '', string.punctuation) \n",
    "    return text.translate(translator) \n",
    "  \n",
    "input_str = \"Hey, Are you excited??, After a week@######, we will be in Shimla!!!\"\n",
    "rem_punct(input_str)"
   ]
  },
  {
   "cell_type": "markdown",
   "metadata": {
    "colab_type": "text",
    "id": "99YJy-_ZJFpo"
   },
   "source": [
    "### Remove default stopwords:\n",
    "\n",
    "Stopwords are words that do not contribute to the meaning of the sentence. Hence, they can be safely removed without causing any change in the meaning of a sentence. The NLTK(Natural Language Toolkit) library has the set of stopwords and we can use these to remove stopwords from our text and return a list of word tokens."
   ]
  },
  {
   "cell_type": "code",
   "execution_count": 71,
   "metadata": {},
   "outputs": [
    {
     "name": "stdout",
     "output_type": "stream",
     "text": [
      "['Data', 'is', 'the', 'new', 'oil', '.', 'A.I', 'is', 'the', 'last', 'invention']"
     ]
    }
   ],
   "source": [
    "ex_text = \"Data is the new oil. A.I is the last invention\"\n",
    "print(word_tokenize(ex_text),end='')"
   ]
  },
  {
   "cell_type": "code",
   "execution_count": 24,
   "metadata": {
    "colab": {
     "base_uri": "https://localhost:8080/",
     "height": 102
    },
    "colab_type": "code",
    "executionInfo": {
     "elapsed": 1497,
     "status": "ok",
     "timestamp": 1587310240465,
     "user": {
      "displayName": "Plaban Nayak",
      "photoUrl": "https://lh3.googleusercontent.com/a-/AOh14GhpiPuIKtntBPYdHxwHUqqujeyZU8kubjFK_d6IAg=s64",
      "userId": "08012991239448816971"
     },
     "user_tz": -330
    },
    "id": "Zg0flBIrJFpp",
    "outputId": "db80011f-7277-476a-cfbd-3436f00a1e05"
   },
   "outputs": [
    {
     "data": {
      "text/plain": [
       "['Data', 'new', 'oil', '.', 'A.I', 'last', 'invention']"
      ]
     },
     "execution_count": 24,
     "metadata": {},
     "output_type": "execute_result"
    }
   ],
   "source": [
    "# importing nltk library\n",
    "from nltk.corpus import stopwords \n",
    "from nltk.tokenize import word_tokenize \n",
    "\n",
    "#nltk.download('stopwords')\n",
    "#nltk.download('punkt')\n",
    "  \n",
    "# remove stopwords function \n",
    "def rem_stopwords(text): \n",
    "    stop_words = set(stopwords.words(\"english\")) \n",
    "    word_tokens = word_tokenize(text) \n",
    "    filtered_text = [word for word in word_tokens if word not in stop_words] \n",
    "    return filtered_text \n",
    "  \n",
    "ex_text = \"Data is the new oil. A.I is the last invention\"\n",
    "rem_stopwords(ex_text)"
   ]
  },
  {
   "cell_type": "markdown",
   "metadata": {
    "colab_type": "text",
    "id": "uZMQOMO1JFps"
   },
   "source": [
    "### Stemming\n",
    "\n",
    "From Stemming we will process of getting the root form of a word. Root or Stem is the part to which inflextional affixes(like -ed, -ize, etc) are added. We would create the stem words by removing the prefix of suffix of a word. So, stemming a word may not result in actual words.\n",
    "\n",
    "For Example: Mangoes ---> Mango\n",
    "\n",
    "             Boys ---> Boy\n",
    "             \n",
    "             going ---> go\n",
    "             \n",
    "             \n",
    "If our sentences are not in tokens, then we need to convert it into tokens. After we converted strings of text into tokens, then we can convert those word tokens into their root form. These are the Porter stemmer, the snowball stemmer, and the Lancaster Stemmer. We usually use Porter stemmer among them."
   ]
  },
  {
   "cell_type": "code",
   "execution_count": 34,
   "metadata": {
    "colab": {
     "base_uri": "https://localhost:8080/",
     "height": 357
    },
    "colab_type": "code",
    "executionInfo": {
     "elapsed": 1440,
     "status": "ok",
     "timestamp": 1587310264948,
     "user": {
      "displayName": "Plaban Nayak",
      "photoUrl": "https://lh3.googleusercontent.com/a-/AOh14GhpiPuIKtntBPYdHxwHUqqujeyZU8kubjFK_d6IAg=s64",
      "userId": "08012991239448816971"
     },
     "user_tz": -330
    },
    "id": "iwP4-kAgJFpt",
    "outputId": "7e7650de-1794-4051-d383-516feac7acbd"
   },
   "outputs": [
    {
     "name": "stdout",
     "output_type": "stream",
     "text": [
      "['data', 'is', 'the', 'new', 'revolut', 'in', 'the', 'world', ',', 'in', 'a', 'day', 'one', 'individu', 'would', 'gener', 'terabyt', 'of', 'data', '.']"
     ]
    }
   ],
   "source": [
    "#importing nltk's porter stemmer \n",
    "from nltk.stem.porter import PorterStemmer \n",
    "from nltk.tokenize import word_tokenize \n",
    "stem1 = PorterStemmer() \n",
    "  \n",
    "# stem words in the list of tokenised words \n",
    "def s_words(text): \n",
    "    word_tokens = word_tokenize(text) \n",
    "    stems = [stem1.stem(word) for word in word_tokens] \n",
    "    return stems \n",
    "  \n",
    "text = 'Data is the new revolution in the World, in a day one individual would generate terabytes of data.'\n",
    "print(s_words(text),end='')"
   ]
  },
  {
   "cell_type": "markdown",
   "metadata": {
    "colab_type": "text",
    "id": "J3auiVuIJFpw"
   },
   "source": [
    "### Lemmatization\n",
    "\n",
    "As stemming, lemmatization do the same but the only difference is that lemmatization ensures that root word belongs to the language. Because of the use of lemmatization we will get the valid words. In NLTK(Natural language Toolkit), we use WordLemmatizer to get the lemmas of words. We also need to provide a context for the lemmatization.So, we added pos(parts-of-speech) as a parameter. "
   ]
  },
  {
   "cell_type": "code",
   "execution_count": 73,
   "metadata": {
    "colab": {
     "base_uri": "https://localhost:8080/",
     "height": 391
    },
    "colab_type": "code",
    "executionInfo": {
     "elapsed": 3089,
     "status": "ok",
     "timestamp": 1587310431366,
     "user": {
      "displayName": "Plaban Nayak",
      "photoUrl": "https://lh3.googleusercontent.com/a-/AOh14GhpiPuIKtntBPYdHxwHUqqujeyZU8kubjFK_d6IAg=s64",
      "userId": "08012991239448816971"
     },
     "user_tz": -330
    },
    "id": "YavFewldJFpx",
    "outputId": "0bd98cf5-f60a-4008-dff0-23a09c4a8d7f"
   },
   "outputs": [
    {
     "data": {
      "text/plain": [
       "['Data',\n",
       " 'be',\n",
       " 'the',\n",
       " 'new',\n",
       " 'revolution',\n",
       " 'in',\n",
       " 'the',\n",
       " 'World',\n",
       " ',',\n",
       " 'in',\n",
       " 'a',\n",
       " 'day',\n",
       " 'one',\n",
       " 'individual',\n",
       " 'would',\n",
       " 'generate',\n",
       " 'terabytes',\n",
       " 'of',\n",
       " 'data',\n",
       " '.']"
      ]
     },
     "execution_count": 73,
     "metadata": {},
     "output_type": "execute_result"
    }
   ],
   "source": [
    "from nltk.stem import wordnet \n",
    "from nltk.tokenize import word_tokenize \n",
    "lemma = wordnet.WordNetLemmatizer()\n",
    "#nltk.download('wordnet')\n",
    "# lemmatize string \n",
    "def lemmatize_word(text): \n",
    "    word_tokens = word_tokenize(text) \n",
    "    # provide context i.e. part-of-speech(pos)\n",
    "    lemmas = [lemma.lemmatize(word, pos ='v') for word in word_tokens] \n",
    "    return lemmas \n",
    "  \n",
    "text = 'Data is the new revolution in the World, in a day one individual would generate terabytes of data.'\n",
    "lemmatize_word(text)"
   ]
  },
  {
   "cell_type": "code",
   "execution_count": 0,
   "metadata": {
    "colab": {
     "base_uri": "https://localhost:8080/",
     "height": 68
    },
    "colab_type": "code",
    "executionInfo": {
     "elapsed": 1051,
     "status": "ok",
     "timestamp": 1587310594271,
     "user": {
      "displayName": "Plaban Nayak",
      "photoUrl": "https://lh3.googleusercontent.com/a-/AOh14GhpiPuIKtntBPYdHxwHUqqujeyZU8kubjFK_d6IAg=s64",
      "userId": "08012991239448816971"
     },
     "user_tz": -330
    },
    "id": "Vs9vYMcSQYu-",
    "outputId": "583d125c-d1a5-492e-c750-4b97599a3b30"
   },
   "outputs": [
    {
     "name": "stdout",
     "output_type": "stream",
     "text": [
      "[nltk_data] Downloading package punkt to /root/nltk_data...\n",
      "[nltk_data]   Package punkt is already up-to-date!\n"
     ]
    },
    {
     "data": {
      "text/plain": [
       "True"
      ]
     },
     "execution_count": 29,
     "metadata": {
      "tags": []
     },
     "output_type": "execute_result"
    }
   ],
   "source": [
    "import nltk\n",
    "nltk.download('punkt')"
   ]
  },
  {
   "cell_type": "markdown",
   "metadata": {
    "colab_type": "text",
    "id": "dt6ZYNpoJFp0"
   },
   "source": [
    "### Parts of Speech (POS) Tagging\n",
    "\n",
    "The pos(parts of speech) explain you how a word is used in a sentence. In the sentence, a word have different contexts and semantic meanings. The basic natural language processing(NLP) models like bag-of-words(bow) fails to identify these relation between the words. For that we use pos tagging to mark a word to its pos tag based on its context in the data. Pos is also used to extract rlationship between the words. "
   ]
  },
  {
   "cell_type": "code",
   "execution_count": 75,
   "metadata": {
    "colab": {
     "base_uri": "https://localhost:8080/",
     "height": 170
    },
    "colab_type": "code",
    "executionInfo": {
     "elapsed": 1079,
     "status": "ok",
     "timestamp": 1587310631873,
     "user": {
      "displayName": "Plaban Nayak",
      "photoUrl": "https://lh3.googleusercontent.com/a-/AOh14GhpiPuIKtntBPYdHxwHUqqujeyZU8kubjFK_d6IAg=s64",
      "userId": "08012991239448816971"
     },
     "user_tz": -330
    },
    "id": "hCjm73RLJFp1",
    "outputId": "3818ce9c-c85c-4105-baf3-2060350687b4"
   },
   "outputs": [
    {
     "name": "stdout",
     "output_type": "stream",
     "text": [
      "[('A', 'DT'), ('paragraph', 'NN'), ('is', 'VBZ'), ('a', 'DT'), ('series', 'NN'), ('of', 'IN'), ('sentences', 'NNS'), ('that', 'WDT'), ('are', 'VBP'), ('organized', 'VBN'), ('and', 'CC'), ('coherent', 'NN'), (',', ','), ('and', 'CC'), ('are', 'VBP'), ('all', 'DT'), ('related', 'VBN'), ('to', 'TO'), ('a', 'DT'), ('single', 'JJ'), ('topic', 'NN'), ('.', '.'), ('Almost', 'CC'), ('every', 'DT'), ('piece', 'NN'), ('of', 'IN'), ('writing', 'VBG'), ('you', 'PRP'), ('do', 'VBP'), ('that', 'DT'), ('is', 'VBZ'), ('longer', 'JJR'), ('than', 'IN'), ('a', 'DT'), ('few', 'JJ'), ('sentences', 'NNS'), ('should', 'MD'), ('be', 'VB'), ('organizedinto', 'JJ'), ('paragraphs', 'NN'), ('.', '.'), ('...', ':'), ('One', 'CD'), ('of', 'IN'), ('the', 'DT'), ('most', 'RBS'), ('important', 'JJ'), ('of', 'IN'), ('these', 'DT'), ('is', 'VBZ'), ('a', 'DT'), ('topic', 'NN'), ('sentence', 'NN')]"
     ]
    }
   ],
   "source": [
    "# importing tokenize library\n",
    "from nltk.tokenize import word_tokenize \n",
    "from nltk import pos_tag \n",
    "#nltk.download('averaged_perceptron_tagger')\n",
    "  \n",
    "# convert text into word_tokens with their tags \n",
    "def pos_tagg(text): \n",
    "    word_tokens = word_tokenize(text) \n",
    "    return pos_tag(word_tokens) \n",
    "  \n",
    "print(pos_tagg('A paragraph is a series of sentences that are organized and coherent, and are all related to a single topic. Almost every piece of writing you do that is longer than a few sentences should be organizedinto paragraphs. ... One of the most important of these is a topic sentence'),end='')"
   ]
  },
  {
   "cell_type": "markdown",
   "metadata": {
    "colab_type": "text",
    "id": "JtdatdAsJFp4"
   },
   "source": [
    "In the above example NNP stands for Proper noun, PRP stands for personal noun, IN as Preposition. We can get all the details pos tags using the Penn Treebank tagset."
   ]
  },
  {
   "cell_type": "code",
   "execution_count": 37,
   "metadata": {
    "colab": {},
    "colab_type": "code",
    "id": "3Zv_rokfJFp5",
    "outputId": "04fbbb73-e494-40e1-8218-84c81d374ebe"
   },
   "outputs": [
    {
     "name": "stderr",
     "output_type": "stream",
     "text": [
      "[nltk_data] Downloading package tagsets to\n",
      "[nltk_data]     C:\\Users\\Asif\\AppData\\Roaming\\nltk_data...\n"
     ]
    },
    {
     "name": "stdout",
     "output_type": "stream",
     "text": [
      "PRP: pronoun, personal\n",
      "    hers herself him himself hisself it itself me myself one oneself ours\n",
      "    ourselves ownself self she thee theirs them themselves they thou thy us\n"
     ]
    },
    {
     "name": "stderr",
     "output_type": "stream",
     "text": [
      "[nltk_data]   Unzipping help\\tagsets.zip.\n"
     ]
    }
   ],
   "source": [
    "# downloading the tagset  \n",
    "nltk.download('tagsets') \n",
    "  \n",
    "# extract information about the tag \n",
    "nltk.help.upenn_tagset('PRP')"
   ]
  },
  {
   "cell_type": "markdown",
   "metadata": {
    "colab_type": "text",
    "id": "tRBPHRjSJFp8"
   },
   "source": [
    "### Chunking\n",
    "\n",
    "Chunking is the process of extracting phrases from the Unstructured text and give them more structure to it. We also called them shallow parsing.We can do it on top of pos tagging. It groups words into chunks mainly for noun phrases. chunking we do by using regular expression. "
   ]
  },
  {
   "cell_type": "code",
   "execution_count": 76,
   "metadata": {
    "colab": {
     "base_uri": "https://localhost:8080/",
     "height": 153
    },
    "colab_type": "code",
    "executionInfo": {
     "elapsed": 1177,
     "status": "ok",
     "timestamp": 1587311091739,
     "user": {
      "displayName": "Plaban Nayak",
      "photoUrl": "https://lh3.googleusercontent.com/a-/AOh14GhpiPuIKtntBPYdHxwHUqqujeyZU8kubjFK_d6IAg=s64",
      "userId": "08012991239448816971"
     },
     "user_tz": -330
    },
    "id": "lzLmybEuJFp8",
    "outputId": "f88cb72f-e470-42e8-995b-6fd34d67e3bf"
   },
   "outputs": [
    {
     "name": "stdout",
     "output_type": "stream",
     "text": [
      "(S\n",
      "  (NP the/DT little/JJ red/JJ parrot/NN)\n",
      "  is/VBZ\n",
      "  flying/VBG\n",
      "  in/IN\n",
      "  (NP the/DT sky/NN))\n",
      "(NP the/DT little/JJ red/JJ parrot/NN)\n",
      "(NP the/DT sky/NN)\n"
     ]
    }
   ],
   "source": [
    "#importing libraries\n",
    "from nltk.tokenize import word_tokenize  \n",
    "from nltk import pos_tag \n",
    "  \n",
    "# here we define chunking function with text and regular \n",
    "# expressions representing grammar as parameter \n",
    "def chunking(text, grammar): \n",
    "    word_tokens = word_tokenize(text) \n",
    "  \n",
    "    # label words with pos \n",
    "    word_pos = pos_tag(word_tokens) \n",
    "  \n",
    "    # create chunk parser using grammar \n",
    "    chunkParser = nltk.RegexpParser(grammar) \n",
    "  \n",
    "    # test it on the list of word tokens with tagged pos \n",
    "    tree = chunkParser.parse(word_pos) \n",
    "      \n",
    "    for subtree in tree.subtrees(): \n",
    "        print(subtree) \n",
    "    #tree.draw() \n",
    "      \n",
    "sentence = 'the little red parrot is flying in the sky'\n",
    "grammar = \"NP: {<DT>?<JJ>*<NN>}\"\n",
    "chunking(sentence, grammar) "
   ]
  },
  {
   "cell_type": "markdown",
   "metadata": {
    "colab_type": "text",
    "id": "RYT9PqpwJFqA"
   },
   "source": [
    "In the above example, we defined the grammar by using the regular expression rule. This rule tells you that NP(noun phrase) chunk should be formed whenever the chunker find the optional determiner(DJ) followed by any no. of adjectives and then a NN(noun).\n",
    "\n",
    "Image after running above code.\n",
    "<img src=\".\\Images\\11.png\">\n",
    "\n",
    "Libraries like Spacy and TextBlob are best for chunking."
   ]
  },
  {
   "cell_type": "markdown",
   "metadata": {
    "colab_type": "text",
    "id": "E6faIGsRJFqB"
   },
   "source": [
    "### Named Entity Recognition\n",
    "\n",
    "It is used to extract information from unstructured text. It is used to classy the entities which is present in the text into categories like a person, organization, event, places, etc. This will give you a detail knowledge about the text and the relationship between the different entities."
   ]
  },
  {
   "cell_type": "code",
   "execution_count": 79,
   "metadata": {
    "colab": {
     "base_uri": "https://localhost:8080/",
     "height": 442
    },
    "colab_type": "code",
    "executionInfo": {
     "elapsed": 1282,
     "status": "ok",
     "timestamp": 1587311208086,
     "user": {
      "displayName": "Plaban Nayak",
      "photoUrl": "https://lh3.googleusercontent.com/a-/AOh14GhpiPuIKtntBPYdHxwHUqqujeyZU8kubjFK_d6IAg=s64",
      "userId": "08012991239448816971"
     },
     "user_tz": -330
    },
    "id": "QeA_JtIBJFqC",
    "outputId": "293ed047-f199-4841-8f5f-687e83ed15ff"
   },
   "outputs": [
    {
     "name": "stdout",
     "output_type": "stream",
     "text": [
      "(S (GPE Afghanistan/NNP) ./.)\n"
     ]
    }
   ],
   "source": [
    "#Importing tokenization and chunk\n",
    "from nltk.tokenize import word_tokenize \n",
    "from nltk import pos_tag, ne_chunk \n",
    "#nltk.download('maxent_ne_chunker')\n",
    "#nltk.download('words')\n",
    "  \n",
    "def ner(text): \n",
    "    # tokenize the text \n",
    "    word_tokens = word_tokenize(text) \n",
    "  \n",
    "    # pos tagging of words \n",
    "    word_pos = pos_tag(word_tokens) \n",
    "  \n",
    "    # tree of word entities \n",
    "    print(ne_chunk(word_pos)) \n",
    "  \n",
    "text = 'Afghanistan.'\n",
    "ner(text) "
   ]
  },
  {
   "cell_type": "markdown",
   "metadata": {
    "colab_type": "text",
    "id": "F8QxWgIhJFqF"
   },
   "source": [
    "# Understanding Regex\n",
    "\n",
    "As you're a software developer, you have probably encountered regular expressions many times and got confused many times with these daunting set of characters grouped together like this:\n",
    "\n",
    "<img src=\".\\Images\\12.png\">\n",
    "\n",
    "And you may wondered what this is all about?\n",
    "\n",
    "Regular Expressions(Regx or RegExp) are too useful in stepping up your algorithm game and this will make you a better problem solver. The structure of Regx can be intimidating at first, but it is very rewarding once you got all the patterns and implement them in your work properly.\n",
    "\n",
    "\n",
    "## What is RegEx and why is it important?\n",
    "\n",
    "A Regex or we called it as regular expression, it is a type of object will help you out to extract information from any string data by searching through text and find it out what you need.Whether it's punctuation, numbers, letters, or even white spaces, RegEx will allow you to check and match any of the character combination in strings.\n",
    "\n",
    "For example, suppose you need to match the format of a email addresses or security numbers. You can utilize RegEx to check the pattern inside the text strings and use it to replace another substring.\n",
    "\n",
    "For instance, a RegEx could tell the program to search for the specific text from the string and then to print out the output accordingly. Expressions can include Text matching, Repetition of words,Branching,pattern-composition.\n",
    "\n",
    "Python supports RegEx through libraries. In RegEx supports for various things like **Identifiers, Modifiers, and White Space.**\n",
    "<img src=\".\\Images\\13.png\">\n",
    "\n",
    "### RegEx Syntax\n",
    "\n",
    "    import re\n",
    "\n",
    "- *re* library in Python is used for string searching and manipulation.\n",
    "- We also used it frequently for web scraping.\n",
    "\n",
    "#### Example for w+ and ^ Expression\n",
    "\n",
    "- *^:* Here in this expression matches the start of a string.\n",
    "- *w+:* This expression matches for the alphanumeric characters from inside the string.\n",
    "\n",
    "Here, we will give one example of how you can use \"w+\" and \"^\" expressions in code. re.findall will cover in next parts,so just focus on the \"w+\" and \"^\" expression.\n",
    "\n",
    "Let's have an example \"iNeuron13, Data is a new fuel\", if we execute the code we will get \"iNeuron13\" as a result."
   ]
  },
  {
   "cell_type": "code",
   "execution_count": 120,
   "metadata": {
    "colab": {
     "base_uri": "https://localhost:8080/",
     "height": 34
    },
    "colab_type": "code",
    "executionInfo": {
     "elapsed": 1280,
     "status": "ok",
     "timestamp": 1587311572112,
     "user": {
      "displayName": "Plaban Nayak",
      "photoUrl": "https://lh3.googleusercontent.com/a-/AOh14GhpiPuIKtntBPYdHxwHUqqujeyZU8kubjFK_d6IAg=s64",
      "userId": "08012991239448816971"
     },
     "user_tz": -330
    },
    "id": "1Ll7r_1RJFqG",
    "outputId": "75ac4d5e-daee-4cf5-c235-8220144b152a"
   },
   "outputs": [
    {
     "name": "stdout",
     "output_type": "stream",
     "text": [
      "['iNeuron13']\n"
     ]
    }
   ],
   "source": [
    "import re\n",
    "sent = \"iNeuron13, Data is a new fuel\"\n",
    "r2 = re.findall(r\"^\\w+\",sent)\n",
    "print(r2)"
   ]
  },
  {
   "cell_type": "markdown",
   "metadata": {
    "colab_type": "text",
    "id": "eCDIypANJFqJ"
   },
   "source": [
    "*Note:* If we remove '+' sign from \\w, the output will change and it'll give only first character of the first letter, i.e [i]"
   ]
  },
  {
   "cell_type": "markdown",
   "metadata": {
    "colab_type": "text",
    "id": "aYONQsX4JFqJ"
   },
   "source": [
    "####  Example of \\s expression in re.split function\n",
    "\n",
    "- \"s:\" This expression we use for creating a space in the string.\n",
    "\n",
    "To understand better this expression we will use the split function in a simple example. In this example, we have to split each words using the \"re.split\" function and at the same time we have used \\s that allows to parse each word in the string seperately."
   ]
  },
  {
   "cell_type": "code",
   "execution_count": 124,
   "metadata": {
    "colab": {},
    "colab_type": "code",
    "id": "k8B4XnkyJFqL",
    "outputId": "4ce07e82-0e1b-44d9-e364-ba2a277d1255"
   },
   "outputs": [
    {
     "name": "stdout",
     "output_type": "stream",
     "text": [
      "['We', 'splited', 'this', 'sentence']\n"
     ]
    }
   ],
   "source": [
    "import re\n",
    "\n",
    "print((re.split(r'\\s','We splited this sentence')))"
   ]
  },
  {
   "cell_type": "markdown",
   "metadata": {
    "colab_type": "text",
    "id": "ebbuYB4GJFqO"
   },
   "source": [
    "As we can see above we got the output ['We', 'splited', 'this', 'sentence'] but what if we remove ' \\ ' from '\\s', it will give result like remove 's' from the entire sentences. Let's see in below example."
   ]
  },
  {
   "cell_type": "code",
   "execution_count": 83,
   "metadata": {
    "colab": {},
    "colab_type": "code",
    "id": "vOSeJ8heJFqP",
    "outputId": "4ca2a8bb-180d-4959-ae74-1790a25451de"
   },
   "outputs": [
    {
     "name": "stdout",
     "output_type": "stream",
     "text": [
      "['We ', 'plited thi', ' ', 'entence']\n"
     ]
    }
   ],
   "source": [
    "import re\n",
    "\n",
    "print((re.split(r's','We splited this sentence')))"
   ]
  },
  {
   "cell_type": "markdown",
   "metadata": {
    "colab_type": "text",
    "id": "Ucqcu5sEJFqS"
   },
   "source": [
    "Similarly, there are series of regular expression in Python that you can use in various ways like  \\d,\\D,$,\\.,\\b, etc."
   ]
  },
  {
   "cell_type": "markdown",
   "metadata": {
    "colab_type": "text",
    "id": "fsqRcZTBJFqS"
   },
   "source": [
    "## Use RegEx methods\n",
    "\n",
    "The \"re\" packages provide several methods to actually perform queries on an input string. We will see different methods which are\n",
    "\n",
    "    re.match()\n",
    "    re.search()\n",
    "    re.findall()\n",
    "    \n",
    "**Note:** Based on the RegEx, Python offers two different primitive operations. This match method checks for the match only at the begining of the string while search checks for a match anywhere in the string.\n",
    "\n",
    "### Using re.match()\n",
    "\n",
    "The match function is used to match the RegEx pattern to string with optional flag. Here, in this \"w+\" and \"\\W\" will match the words starting from \"i\" and thereafter ,anything which is not started with \"i\" is not identified. For checking match for each element in the list or string, we run the for loop."
   ]
  },
  {
   "cell_type": "code",
   "execution_count": 125,
   "metadata": {
    "colab": {
     "base_uri": "https://localhost:8080/",
     "height": 34
    },
    "colab_type": "code",
    "executionInfo": {
     "elapsed": 2006,
     "status": "ok",
     "timestamp": 1587311757332,
     "user": {
      "displayName": "Plaban Nayak",
      "photoUrl": "https://lh3.googleusercontent.com/a-/AOh14GhpiPuIKtntBPYdHxwHUqqujeyZU8kubjFK_d6IAg=s64",
      "userId": "08012991239448816971"
     },
     "user_tz": -330
    },
    "id": "9PwUHm80JFqT",
    "outputId": "c6be7161-c6e3-4a77-f90b-bd879c583671"
   },
   "outputs": [
    {
     "name": "stdout",
     "output_type": "stream",
     "text": [
      "('icecream', 'images')\n",
      "('imitation', 'images')\n"
     ]
    }
   ],
   "source": [
    "import re\n",
    "\n",
    "lists = ['icecream images', 'i immitated', 'inner peace','citation images','imitation images ']\n",
    "\n",
    "for i in lists:\n",
    "    q = re.match(\"(i\\w+)\\W(i\\w+)\", i)\n",
    "    \n",
    "    if q:\n",
    "        print((q.groups()))"
   ]
  },
  {
   "cell_type": "markdown",
   "metadata": {
    "colab_type": "text",
    "id": "qgpCmaYRJFqW"
   },
   "source": [
    "### Finding Pattern in the text(re.search())\n",
    "\n",
    "A RegEx is commonly used to search for a pattern in the text. This method takes a RegEx pattern and a string and searches that pattern with the string.\n",
    "\n",
    "For using re.search() function, you need to import re first. The search() function takes the \"pattern\" and \"text\" to scan from our given string and returns the match object when the pattern found or else not match."
   ]
  },
  {
   "cell_type": "code",
   "execution_count": 126,
   "metadata": {
    "colab": {
     "base_uri": "https://localhost:8080/",
     "height": 51
    },
    "colab_type": "code",
    "executionInfo": {
     "elapsed": 1056,
     "status": "ok",
     "timestamp": 1587311837648,
     "user": {
      "displayName": "Plaban Nayak",
      "photoUrl": "https://lh3.googleusercontent.com/a-/AOh14GhpiPuIKtntBPYdHxwHUqqujeyZU8kubjFK_d6IAg=s64",
      "userId": "08012991239448816971"
     },
     "user_tz": -330
    },
    "id": "l-A3PluqJFqW",
    "outputId": "f8d99ecd-daed-4d8e-82af-4386c17f0afa"
   },
   "outputs": [
    {
     "name": "stdout",
     "output_type": "stream",
     "text": [
      "You're looking for 'playing' in 'Raju is playing outside.' Found match!\n",
      "You're looking for 'iNeuron' in 'Raju is playing outside.' no match found!\n"
     ]
    }
   ],
   "source": [
    "import re\n",
    "\n",
    "pattern = [\"playing\", \"iNeuron\"]\n",
    "text = \"Raju is playing outside.\"\n",
    "\n",
    "for p in pattern:\n",
    "    print(\"You're looking for '%s' in '%s'\" %(p, text), end = ' ')\n",
    "    \n",
    "    if re.search(p, text):\n",
    "        print('Found match!')\n",
    "        \n",
    "    else:\n",
    "        print(\"no match found!\")"
   ]
  },
  {
   "cell_type": "markdown",
   "metadata": {
    "colab_type": "text",
    "id": "QpDqwUlYJFqc"
   },
   "source": [
    "In the Above example, we look for two literal strings \"playing\", \"iNeuron\" and in text string we had taken \"Raju is playing outside.\". For \"playing\" we got the match and in the output we got \"Found Match\", while for the word \"iNeuron\" we didn't got any match. So,we got no match found for that word."
   ]
  },
  {
   "cell_type": "markdown",
   "metadata": {
    "colab_type": "text",
    "id": "7Ymvv2F0JFqd"
   },
   "source": [
    "## Using re.findall() for text\n",
    "\n",
    "We use re.findall() module is when you wnat to iterate over the lines of the file, it'll do like list all the matches in one go. Here in a example, we would like to fetch email address from the list and we want to fetch all emails from the list, we use re.findall() method."
   ]
  },
  {
   "cell_type": "code",
   "execution_count": 2,
   "metadata": {
    "colab": {
     "base_uri": "https://localhost:8080/",
     "height": 85
    },
    "colab_type": "code",
    "executionInfo": {
     "elapsed": 1177,
     "status": "ok",
     "timestamp": 1587311902154,
     "user": {
      "displayName": "Plaban Nayak",
      "photoUrl": "https://lh3.googleusercontent.com/a-/AOh14GhpiPuIKtntBPYdHxwHUqqujeyZU8kubjFK_d6IAg=s64",
      "userId": "08012991239448816971"
     },
     "user_tz": -330
    },
    "id": "oWqt1WHIJFqd",
    "outputId": "7d50adf6-d5b3-4c3f-92bc-0b27fed606c8"
   },
   "outputs": [
    {
     "name": "stdout",
     "output_type": "stream",
     "text": [
      "['Gaurav@iNeuron.ai,', 'Nilesh@iNeuron.ai,', 'Jay@iNeuron.ai,', 'Vikash@iNeuron.ai']\n"
     ]
    }
   ],
   "source": [
    "import re\n",
    "\n",
    "kgf = \"Gaurav@iNeuron.ai, Nilesh@iNeuron.ai, Jay@iNeuron.ai, Vikash@iNeuron.ai\"\n",
    "\n",
    "emails = re.findall(r'\\S+@\\S+', kgf)\n",
    "\n",
    "print(emails)"
   ]
  },
  {
   "cell_type": "markdown",
   "metadata": {
    "colab_type": "text",
    "id": "1Q1qIIAwJFqj"
   },
   "source": [
    "## Python Flags\n",
    "\n",
    "You see many Python RegEx methods and functions take an optional arguemnet flag.This flag can modify the meaning of the given regeEx pattern.\n",
    "\n",
    "Various flags used in python include.\n",
    "<img src=\".\\Images\\14.png\">"
   ]
  },
  {
   "cell_type": "markdown",
   "metadata": {
    "colab_type": "text",
    "id": "78xJQ7GUJFqk"
   },
   "source": [
    "## Let's look the example for re.M or Multiline Flags\n",
    "\n",
    "In the multiline flag the pattern character \"^\" matches the first character of the string and the begining of the each line. While the small \"w\" is used to mark the space with characters.When you run the code first variable \"q1\" prints out the character \"i\" only and while using the Multiline flag will give the result of all first character of all strings."
   ]
  },
  {
   "cell_type": "code",
   "execution_count": 97,
   "metadata": {
    "colab": {
     "base_uri": "https://localhost:8080/",
     "height": 51
    },
    "colab_type": "code",
    "executionInfo": {
     "elapsed": 1405,
     "status": "ok",
     "timestamp": 1587311981335,
     "user": {
      "displayName": "Plaban Nayak",
      "photoUrl": "https://lh3.googleusercontent.com/a-/AOh14GhpiPuIKtntBPYdHxwHUqqujeyZU8kubjFK_d6IAg=s64",
      "userId": "08012991239448816971"
     },
     "user_tz": -330
    },
    "id": "cA7gbHktJFql",
    "outputId": "fbba48a5-0204-448d-9479-9f81d5bd507b"
   },
   "outputs": [
    {
     "name": "stdout",
     "output_type": "stream",
     "text": [
      "['i']\n",
      "['i', 'M', 'L']\n"
     ]
    }
   ],
   "source": [
    "import re\n",
    "\n",
    "aa = \"\"\"iNeuron13\n",
    "Machine\n",
    "Learning\"\"\"\n",
    "\n",
    "q1 = re.findall(r\"^\\w\", aa)\n",
    "q2 = re.findall(r\"^\\w\", aa, re.MULTILINE)\n",
    "print(q1)\n",
    "print(q2)"
   ]
  },
  {
   "cell_type": "markdown",
   "metadata": {
    "colab_type": "text",
    "id": "tS3pw01wJFqr"
   },
   "source": [
    "Likewise, you can also use other Python flags like re.U (Unicode), re.L (Follow locale), re.X (Allow Comment), etc."
   ]
  },
  {
   "cell_type": "code",
   "execution_count": 0,
   "metadata": {
    "colab": {},
    "colab_type": "code",
    "id": "5V2BOSMhJFqy"
   },
   "outputs": [],
   "source": []
  },
  {
   "cell_type": "markdown",
   "metadata": {
    "colab_type": "text",
    "id": "BhQPEBIbJFq4"
   },
   "source": [
    "# Text normalization\n",
    "\n",
    "In the tect pre-processing highly overlooked step is text normalization. The text normalization means the process of transforming the text into the canonical(or standard) form. Like, \"ok\" and \"k\" can be transformed to \"okay\", its canonical form.And another example is mapping of near identical words such as \"preprocessing\", \"pre-processing\" and \"pre processing\" to just \"preprocessing\".\n",
    "\n",
    "Text normaliztion is too useful for noisy textssuch as social media comments, comment to blog posts, text messages, where abbreviations, misspellings, and the use out-of-vocabulary(oov) are prevalent.\n",
    "\n",
    "<img src=\".\\Images\\15.png\">\n",
    "\n",
    "### Effects of normalization\n",
    "\n",
    "Text normalization has even been effective for analyzing highly unstructured clinical texts where physicians take notes in non-standard ways. We have also found it useful for topic extraction where near synonyms and spelling differences are common (like 'topic modelling', 'topic modeling', 'topic-modeling', 'topic-modelling').\n",
    "\n",
    "Unlike stemming and lemmatization, there is not a standard way to normalize texts. It typically depends on the task. For e.g, the way you would normalize clinical texts would arguably be different from how you normalize text messages.\n",
    "\n",
    "Some of the common approaches to text normalization include dictionary mappings, statistical machine translation (SMT) and spelling-correction based approaches."
   ]
  },
  {
   "cell_type": "markdown",
   "metadata": {
    "colab_type": "text",
    "id": "o5JAXa2kJFq6"
   },
   "source": [
    "# Word Count\n",
    "\n",
    "I am assuming you have the understanding of tokenization,the first figure we can calculate is the word frequency.By *word frequency* we can find out how many times each tokens appear in the text. When talking about word frequency, we distinguished between *types* and *tokens*.Types are the distinct words in a corpus, whereas tokens are the words, including repeats. Let's see how this works in practice.\n",
    "\n",
    "Let's take an example for better understanding:\n",
    "\n",
    "“There is no need to panic. We need to work together, take small yet important measures to ensure self-protection,” the Prime Minister tweeted.\n",
    "\n",
    "How many tokens and types are there in above sentences?\n",
    "\n",
    "Let's use Python for calculating these figures. First, tokenize the sentence by using the tokenizer which uses the non-alphabetic characters as a separator."
   ]
  },
  {
   "cell_type": "code",
   "execution_count": 128,
   "metadata": {
    "colab": {},
    "colab_type": "code",
    "id": "0hCsVsvmJFq8"
   },
   "outputs": [
    {
     "name": "stdout",
     "output_type": "stream",
     "text": [
      "143\n"
     ]
    }
   ],
   "source": [
    "from nltk.tokenize.regexp import WhitespaceTokenizer\n",
    "m = \"'There is no need to panic. We need to work together, take small yet important measures to ensure self-protection,' the Prime Minister tweeted.\"\n",
    "print(len(m))"
   ]
  },
  {
   "cell_type": "markdown",
   "metadata": {
    "colab_type": "text",
    "id": "WOTpqJfwJFrG"
   },
   "source": [
    "Note in the above we had used a slightly different syntax for importing the module. You'll recognize by now the variable assignment."
   ]
  },
  {
   "cell_type": "code",
   "execution_count": 129,
   "metadata": {
    "colab": {
     "base_uri": "https://localhost:8080/",
     "height": 34
    },
    "colab_type": "code",
    "executionInfo": {
     "elapsed": 1928,
     "status": "ok",
     "timestamp": 1587312032791,
     "user": {
      "displayName": "Plaban Nayak",
      "photoUrl": "https://lh3.googleusercontent.com/a-/AOh14GhpiPuIKtntBPYdHxwHUqqujeyZU8kubjFK_d6IAg=s64",
      "userId": "08012991239448816971"
     },
     "user_tz": -330
    },
    "id": "4G1dj6KxJFrH",
    "outputId": "3bce4d68-3dd8-455d-ed24-eb55c2fc1bbd"
   },
   "outputs": [
    {
     "name": "stdout",
     "output_type": "stream",
     "text": [
      "23\n"
     ]
    }
   ],
   "source": [
    "tokens = WhitespaceTokenizer().tokenize(m)\n",
    "print(len(tokens))"
   ]
  },
  {
   "cell_type": "code",
   "execution_count": 130,
   "metadata": {
    "colab": {
     "base_uri": "https://localhost:8080/",
     "height": 408
    },
    "colab_type": "code",
    "executionInfo": {
     "elapsed": 658,
     "status": "ok",
     "timestamp": 1587312040488,
     "user": {
      "displayName": "Plaban Nayak",
      "photoUrl": "https://lh3.googleusercontent.com/a-/AOh14GhpiPuIKtntBPYdHxwHUqqujeyZU8kubjFK_d6IAg=s64",
      "userId": "08012991239448816971"
     },
     "user_tz": -330
    },
    "id": "_3UJdOSZK4Ny",
    "outputId": "c350f859-fc2f-4c75-f6b8-4df65bf8e1d1"
   },
   "outputs": [
    {
     "name": "stdout",
     "output_type": "stream",
     "text": [
      "[\"'There\", 'is', 'no', 'need', 'to', 'panic.', 'We', 'need', 'to', 'work', 'together,', 'take', 'small', 'yet', 'important', 'measures', 'to', 'ensure', \"self-protection,'\", 'the', 'Prime', 'Minister', 'tweeted.']"
     ]
    }
   ],
   "source": [
    "print(tokens,end='')"
   ]
  },
  {
   "cell_type": "code",
   "execution_count": 131,
   "metadata": {
    "colab": {
     "base_uri": "https://localhost:8080/",
     "height": 34
    },
    "colab_type": "code",
    "executionInfo": {
     "elapsed": 1431,
     "status": "ok",
     "timestamp": 1587312070560,
     "user": {
      "displayName": "Plaban Nayak",
      "photoUrl": "https://lh3.googleusercontent.com/a-/AOh14GhpiPuIKtntBPYdHxwHUqqujeyZU8kubjFK_d6IAg=s64",
      "userId": "08012991239448816971"
     },
     "user_tz": -330
    },
    "id": "2bWUD3u9JFrM",
    "outputId": "de491e07-9175-4e8e-efdc-7dd3f49a48a1"
   },
   "outputs": [
    {
     "name": "stdout",
     "output_type": "stream",
     "text": [
      "23\n"
     ]
    }
   ],
   "source": [
    "my_vocab = set(tokens)\n",
    "print(len(tokens))"
   ]
  },
  {
   "cell_type": "code",
   "execution_count": 133,
   "metadata": {
    "colab": {
     "base_uri": "https://localhost:8080/",
     "height": 357
    },
    "colab_type": "code",
    "executionInfo": {
     "elapsed": 1507,
     "status": "ok",
     "timestamp": 1587312081943,
     "user": {
      "displayName": "Plaban Nayak",
      "photoUrl": "https://lh3.googleusercontent.com/a-/AOh14GhpiPuIKtntBPYdHxwHUqqujeyZU8kubjFK_d6IAg=s64",
      "userId": "08012991239448816971"
     },
     "user_tz": -330
    },
    "id": "-5ZjzPilLB5K",
    "outputId": "c3c7790a-9be2-43ce-f87a-06d070348ddd"
   },
   "outputs": [
    {
     "name": "stdout",
     "output_type": "stream",
     "text": [
      "{'Minister', 'measures', 'We', 'ensure', 'is', 'together,', 'to', 'work', \"self-protection,'\", 'no', 'need', 'panic.', \"'There\", 'small', 'important', 'Prime', 'yet', 'tweeted.', 'take', 'the'}"
     ]
    }
   ],
   "source": [
    "print(my_vocab,end='')"
   ]
  },
  {
   "cell_type": "markdown",
   "metadata": {
    "colab_type": "text",
    "id": "9JvxHE1AJFrY"
   },
   "source": [
    "Now we are going to perform the same operation but with the different tokenizer."
   ]
  },
  {
   "cell_type": "code",
   "execution_count": 134,
   "metadata": {
    "colab": {},
    "colab_type": "code",
    "id": "mnKq15I9JFrZ"
   },
   "outputs": [],
   "source": [
    "my_st = \"'There is no need to panic. We need to work together, take small yet important measures to ensure self-protection,' the Prime Minister tweeted.\""
   ]
  },
  {
   "cell_type": "markdown",
   "metadata": {
    "colab_type": "text",
    "id": "NcKmcRMIJFre"
   },
   "source": [
    "We'll import different tokenizer:"
   ]
  },
  {
   "cell_type": "code",
   "execution_count": 135,
   "metadata": {
    "colab": {},
    "colab_type": "code",
    "id": "43GUD6oFJFre"
   },
   "outputs": [],
   "source": [
    "from nltk.tokenize.regexp import WordPunctTokenizer"
   ]
  },
  {
   "cell_type": "markdown",
   "metadata": {
    "colab_type": "text",
    "id": "_vgFr9PCJFr_"
   },
   "source": [
    "Above tokenizer also split the words into tokens:"
   ]
  },
  {
   "cell_type": "code",
   "execution_count": 136,
   "metadata": {
    "colab": {
     "base_uri": "https://localhost:8080/",
     "height": 34
    },
    "colab_type": "code",
    "executionInfo": {
     "elapsed": 1106,
     "status": "ok",
     "timestamp": 1587312107875,
     "user": {
      "displayName": "Plaban Nayak",
      "photoUrl": "https://lh3.googleusercontent.com/a-/AOh14GhpiPuIKtntBPYdHxwHUqqujeyZU8kubjFK_d6IAg=s64",
      "userId": "08012991239448816971"
     },
     "user_tz": -330
    },
    "id": "b4icabaCJFsA",
    "outputId": "5977ba25-7325-4b44-d683-a24220ecd863"
   },
   "outputs": [
    {
     "name": "stdout",
     "output_type": "stream",
     "text": [
      "30\n"
     ]
    }
   ],
   "source": [
    "m_t = WordPunctTokenizer().tokenize(my_st)\n",
    "\n",
    "print(len(m_t))"
   ]
  },
  {
   "cell_type": "code",
   "execution_count": 137,
   "metadata": {
    "colab": {
     "base_uri": "https://localhost:8080/",
     "height": 527
    },
    "colab_type": "code",
    "executionInfo": {
     "elapsed": 1158,
     "status": "ok",
     "timestamp": 1587312132322,
     "user": {
      "displayName": "Plaban Nayak",
      "photoUrl": "https://lh3.googleusercontent.com/a-/AOh14GhpiPuIKtntBPYdHxwHUqqujeyZU8kubjFK_d6IAg=s64",
      "userId": "08012991239448816971"
     },
     "user_tz": -330
    },
    "id": "jQ-xXrPjLO-N",
    "outputId": "95ce845c-4703-44eb-c61c-a3d9d1750cc3"
   },
   "outputs": [
    {
     "name": "stdout",
     "output_type": "stream",
     "text": [
      "[\"'\", 'There', 'is', 'no', 'need', 'to', 'panic', '.', 'We', 'need', 'to', 'work', 'together', ',', 'take', 'small', 'yet', 'important', 'measures', 'to', 'ensure', 'self', '-', 'protection', \",'\", 'the', 'Prime', 'Minister', 'tweeted', '.']"
     ]
    }
   ],
   "source": [
    "print(m_t,end='')"
   ]
  },
  {
   "cell_type": "code",
   "execution_count": 110,
   "metadata": {
    "colab": {
     "base_uri": "https://localhost:8080/",
     "height": 34
    },
    "colab_type": "code",
    "executionInfo": {
     "elapsed": 1874,
     "status": "ok",
     "timestamp": 1587312142240,
     "user": {
      "displayName": "Plaban Nayak",
      "photoUrl": "https://lh3.googleusercontent.com/a-/AOh14GhpiPuIKtntBPYdHxwHUqqujeyZU8kubjFK_d6IAg=s64",
      "userId": "08012991239448816971"
     },
     "user_tz": -330
    },
    "id": "0BV3-8s6JFsF",
    "outputId": "f1ecc738-c995-4a2a-94a3-1cbaaef1b46d"
   },
   "outputs": [
    {
     "name": "stdout",
     "output_type": "stream",
     "text": [
      "26\n"
     ]
    }
   ],
   "source": [
    "my_vocab = set(m_t)\n",
    "print(len(my_vocab))"
   ]
  },
  {
   "cell_type": "code",
   "execution_count": 111,
   "metadata": {
    "colab": {
     "base_uri": "https://localhost:8080/",
     "height": 459
    },
    "colab_type": "code",
    "executionInfo": {
     "elapsed": 1093,
     "status": "ok",
     "timestamp": 1587312168432,
     "user": {
      "displayName": "Plaban Nayak",
      "photoUrl": "https://lh3.googleusercontent.com/a-/AOh14GhpiPuIKtntBPYdHxwHUqqujeyZU8kubjFK_d6IAg=s64",
      "userId": "08012991239448816971"
     },
     "user_tz": -330
    },
    "id": "r68Ukj1NLWGC",
    "outputId": "3e6c08ba-1977-4d61-8d4a-bf967879f412"
   },
   "outputs": [
    {
     "data": {
      "text/plain": [
       "{\"'\",\n",
       " ',',\n",
       " \",'\",\n",
       " '-',\n",
       " '.',\n",
       " 'Minister',\n",
       " 'Prime',\n",
       " 'There',\n",
       " 'We',\n",
       " 'ensure',\n",
       " 'important',\n",
       " 'is',\n",
       " 'measures',\n",
       " 'need',\n",
       " 'no',\n",
       " 'panic',\n",
       " 'protection',\n",
       " 'self',\n",
       " 'small',\n",
       " 'take',\n",
       " 'the',\n",
       " 'to',\n",
       " 'together',\n",
       " 'tweeted',\n",
       " 'work',\n",
       " 'yet'}"
      ]
     },
     "execution_count": 111,
     "metadata": {},
     "output_type": "execute_result"
    }
   ],
   "source": [
    "my_vocab         \n"
   ]
  },
  {
   "cell_type": "markdown",
   "metadata": {
    "colab_type": "text",
    "id": "b0gQRrsrJFsQ"
   },
   "source": [
    "What is the difference between the above approaches? In the first one, vocabulary ends up containing \"words\" and \"words.\" as two distinct words; whereas in second example \"words\" is a token type and \".\" (i.e. the dot) is split into a separate token and this results into a new token type in addition to \"words\"."
   ]
  },
  {
   "cell_type": "code",
   "execution_count": 0,
   "metadata": {
    "colab": {},
    "colab_type": "code",
    "id": "2mxx4rd7JFsR"
   },
   "outputs": [],
   "source": []
  },
  {
   "cell_type": "markdown",
   "metadata": {
    "colab_type": "text",
    "id": "PLpduZLSJFsU"
   },
   "source": [
    "# Frequency distribution\n",
    "\n",
    "What is Frequency distribution? This is basically counting words in your texts.To give a brief example of how it works,"
   ]
  },
  {
   "cell_type": "code",
   "execution_count": 112,
   "metadata": {
    "colab": {
     "base_uri": "https://localhost:8080/",
     "height": 102
    },
    "colab_type": "code",
    "executionInfo": {
     "elapsed": 2571,
     "status": "ok",
     "timestamp": 1587312457017,
     "user": {
      "displayName": "Plaban Nayak",
      "photoUrl": "https://lh3.googleusercontent.com/a-/AOh14GhpiPuIKtntBPYdHxwHUqqujeyZU8kubjFK_d6IAg=s64",
      "userId": "08012991239448816971"
     },
     "user_tz": -330
    },
    "id": "AQCKvtd1JFsV",
    "outputId": "a8eb4f22-f68b-4df3-e3c7-3bfc1a2b3d25"
   },
   "outputs": [
    {
     "name": "stdout",
     "output_type": "stream",
     "text": [
      "\n",
      "\n",
      "\n",
      "\n",
      "<FreqDist with 23 samples and 28 outcomes>\n"
     ]
    }
   ],
   "source": [
    "#from nltk.book import *\n",
    "import nltk\n",
    "#nltk.download('gutenberg')\n",
    "print(\"\\n\\n\\n\")\n",
    "text1 = \"'There is no need to panic. We need to work together, take small yet important measures to ensure self-protection,' the Prime Minister tweeted.\"\n",
    "freqDist = nltk.FreqDist(word_tokenize(text1))\n",
    "print(freqDist)"
   ]
  },
  {
   "cell_type": "markdown",
   "metadata": {
    "colab_type": "text",
    "id": "dWuKVZRuJFsZ"
   },
   "source": [
    "The class **FreqDist** works like a dictionary where keys are the words in the text and the values are count associated with that word. For example, if you want to see how many words \"person\" are in the text, you can type as:"
   ]
  },
  {
   "cell_type": "code",
   "execution_count": 113,
   "metadata": {
    "colab": {
     "base_uri": "https://localhost:8080/",
     "height": 34
    },
    "colab_type": "code",
    "executionInfo": {
     "elapsed": 1437,
     "status": "ok",
     "timestamp": 1587312390554,
     "user": {
      "displayName": "Plaban Nayak",
      "photoUrl": "https://lh3.googleusercontent.com/a-/AOh14GhpiPuIKtntBPYdHxwHUqqujeyZU8kubjFK_d6IAg=s64",
      "userId": "08012991239448816971"
     },
     "user_tz": -330
    },
    "id": "BiqNifrRJFsZ",
    "outputId": "da559715-88ce-4aac-d547-bd9d01182891"
   },
   "outputs": [
    {
     "name": "stdout",
     "output_type": "stream",
     "text": [
      "0\n"
     ]
    }
   ],
   "source": [
    "print(freqDist[\"person\"])"
   ]
  },
  {
   "cell_type": "markdown",
   "metadata": {
    "colab_type": "text",
    "id": "Dz7zeFg7JFsh"
   },
   "source": [
    "One of the most important function in **FreqDist** is the **.keys()** function. Let us see what will it give in a below code."
   ]
  },
  {
   "cell_type": "code",
   "execution_count": 114,
   "metadata": {
    "colab": {
     "base_uri": "https://localhost:8080/",
     "height": 34
    },
    "colab_type": "code",
    "executionInfo": {
     "elapsed": 1391,
     "status": "ok",
     "timestamp": 1587312399747,
     "user": {
      "displayName": "Plaban Nayak",
      "photoUrl": "https://lh3.googleusercontent.com/a-/AOh14GhpiPuIKtntBPYdHxwHUqqujeyZU8kubjFK_d6IAg=s64",
      "userId": "08012991239448816971"
     },
     "user_tz": -330
    },
    "id": "PnVYQ3n2JFsi",
    "outputId": "6de04e09-f684-4bf5-ab32-5c80e55d34ec"
   },
   "outputs": [
    {
     "name": "stdout",
     "output_type": "stream",
     "text": [
      "<class 'dict_keys'>\n"
     ]
    }
   ],
   "source": [
    "words = freqDist.keys()\n",
    "print(type(words))"
   ]
  },
  {
   "cell_type": "markdown",
   "metadata": {
    "colab_type": "text",
    "id": "oJT-YnW_JFsn"
   },
   "source": [
    "After running above code, it'll give as class 'dict_keys', in the other words, you get a list of all the words in your text."
   ]
  },
  {
   "cell_type": "markdown",
   "metadata": {
    "colab_type": "text",
    "id": "2GLyn8jPJFsn"
   },
   "source": [
    "And you want to see how many words are there in the text,"
   ]
  },
  {
   "cell_type": "code",
   "execution_count": 115,
   "metadata": {
    "colab": {
     "base_uri": "https://localhost:8080/",
     "height": 34
    },
    "colab_type": "code",
    "executionInfo": {
     "elapsed": 1597,
     "status": "ok",
     "timestamp": 1587312406723,
     "user": {
      "displayName": "Plaban Nayak",
      "photoUrl": "https://lh3.googleusercontent.com/a-/AOh14GhpiPuIKtntBPYdHxwHUqqujeyZU8kubjFK_d6IAg=s64",
      "userId": "08012991239448816971"
     },
     "user_tz": -330
    },
    "id": "67rPpn_BJFso",
    "outputId": "678b6ede-b063-48fd-bfbe-a851d81c40a9"
   },
   "outputs": [
    {
     "name": "stdout",
     "output_type": "stream",
     "text": [
      "23\n"
     ]
    }
   ],
   "source": [
    "print(len(words))"
   ]
  },
  {
   "cell_type": "markdown",
   "metadata": {
    "colab_type": "text",
    "id": "fwRAdGZ3JFst"
   },
   "source": [
    "In the class nltk.text.Text function do the same stuff, so what is the difference? The difference is that with FreqDist you can create your own texts without the necessity of converting your text to nltk.text.Text class.\n",
    "\n",
    "And the other usual functon is *plot*. Plot will do like it displays the most used words in your text. So, if you want to see 15 most used words in the text , For example like:"
   ]
  },
  {
   "cell_type": "code",
   "execution_count": 116,
   "metadata": {
    "colab": {
     "base_uri": "https://localhost:8080/",
     "height": 318
    },
    "colab_type": "code",
    "executionInfo": {
     "elapsed": 1530,
     "status": "ok",
     "timestamp": 1587312469912,
     "user": {
      "displayName": "Plaban Nayak",
      "photoUrl": "https://lh3.googleusercontent.com/a-/AOh14GhpiPuIKtntBPYdHxwHUqqujeyZU8kubjFK_d6IAg=s64",
      "userId": "08012991239448816971"
     },
     "user_tz": -330
    },
    "id": "ZZYHUCjCJFsu",
    "outputId": "5d339514-c2fe-453b-eff5-030d6b4f9fd7"
   },
   "outputs": [
    {
     "data": {
      "image/png": "[encoded data removed]",
      "text/plain": [
       "<Figure size 432x288 with 1 Axes>"
      ]
     },
     "metadata": {
      "needs_background": "light"
     },
     "output_type": "display_data"
    },
    {
     "data": {
      "text/plain": [
       "<AxesSubplot:xlabel='Samples', ylabel='Counts'>"
      ]
     },
     "execution_count": 116,
     "metadata": {},
     "output_type": "execute_result"
    }
   ],
   "source": [
    "freqDist.plot(30)"
   ]
  },
  {
   "cell_type": "markdown",
   "metadata": {
    "colab_type": "text",
    "id": "X18QF8fnJFsx"
   },
   "source": [
    "## Personal Frequency Distribution\n",
    "\n",
    "Suppose you want to do frequency distribution based on your own personal text. Let's get started,"
   ]
  },
  {
   "cell_type": "code",
   "execution_count": 118,
   "metadata": {
    "colab": {
     "base_uri": "https://localhost:8080/",
     "height": 34
    },
    "colab_type": "code",
    "executionInfo": {
     "elapsed": 1203,
     "status": "ok",
     "timestamp": 1587312484654,
     "user": {
      "displayName": "Plaban Nayak",
      "photoUrl": "https://lh3.googleusercontent.com/a-/AOh14GhpiPuIKtntBPYdHxwHUqqujeyZU8kubjFK_d6IAg=s64",
      "userId": "08012991239448816971"
     },
     "user_tz": -330
    },
    "id": "YC9Y6ypiJFsy",
    "outputId": "7ca2c9a0-d9e6-4f69-ce5a-b023f7c035f0"
   },
   "outputs": [
    {
     "name": "stdout",
     "output_type": "stream",
     "text": [
      "1\n"
     ]
    }
   ],
   "source": [
    "from nltk import FreqDist\n",
    " \n",
    "sent = \"'There is no need to panic. We need to work together, take small yet important measures to ensure self-protection,' the Prime Minister tweeted.\"\n",
    " \n",
    "text_list = sent.split(\" \")\n",
    " \n",
    "freqDist = FreqDist(text_list)\n",
    "words = list(freqDist.keys())\n",
    " \n",
    "print(freqDist['work'])"
   ]
  },
  {
   "cell_type": "code",
   "execution_count": 119,
   "metadata": {
    "colab": {
     "base_uri": "https://localhost:8080/",
     "height": 347
    },
    "colab_type": "code",
    "executionInfo": {
     "elapsed": 1976,
     "status": "ok",
     "timestamp": 1587312549302,
     "user": {
      "displayName": "Plaban Nayak",
      "photoUrl": "https://lh3.googleusercontent.com/a-/AOh14GhpiPuIKtntBPYdHxwHUqqujeyZU8kubjFK_d6IAg=s64",
      "userId": "08012991239448816971"
     },
     "user_tz": -330
    },
    "id": "YaDtGT2OMo2u",
    "outputId": "d6160eac-17f1-4b61-fdc1-9edfc821966f"
   },
   "outputs": [
    {
     "data": {
      "image/png": "[encoded data removed]",
      "text/plain": [
       "<Figure size 432x288 with 1 Axes>"
      ]
     },
     "metadata": {
      "needs_background": "light"
     },
     "output_type": "display_data"
    },
    {
     "data": {
      "text/plain": [
       "<AxesSubplot:xlabel='Samples', ylabel='Counts'>"
      ]
     },
     "execution_count": 119,
     "metadata": {},
     "output_type": "execute_result"
    }
   ],
   "source": [
    "freqDist.plot(20)"
   ]
  },
  {
   "cell_type": "markdown",
   "metadata": {
    "colab_type": "text",
    "id": "LnN_ncTgJFs2"
   },
   "source": [
    "In the first line, you don't have to import nltk.book to use the FreqDist class.\n",
    "\n",
    "We then declare sent and text_list variables. The variable *sent* is your custom text and the variable text_list is a list that contains all the words of your custom text.You can see that we used sent.split(\" \") to separate the words.\n",
    "\n",
    "Then you have the variable *freqDist* and words. freqDist is an object of the FreqDist class is for the text you have given and words is the list of all keys of freqDist.\n",
    "\n",
    "The last line of code is where you print your results. In this example, your code will print the count of the word “need”.\n",
    "\n",
    "If you replace “need” with “Prime”, you can see that it will return 1 instead of 2. This is because nltk indexing is case-sensitive. To avoid this, you can use the *.lower()* function in the variable text."
   ]
  },
  {
   "cell_type": "code",
   "execution_count": 0,
   "metadata": {
    "colab": {},
    "colab_type": "code",
    "id": "6Ar6ATbZJFs2"
   },
   "outputs": [],
   "source": []
  }
 ],
 "metadata": {
  "colab": {
   "name": "Text Processing in NLP.ipynb",
   "provenance": []
  },
  "kernelspec": {
   "display_name": "Python 3",
   "language": "python",
   "name": "python3"
  },
  "language_info": {
   "codemirror_mode": {
    "name": "ipython",
    "version": 3
   },
   "file_extension": ".py",
   "mimetype": "text/x-python",
   "name": "python",
   "nbconvert_exporter": "python",
   "pygments_lexer": "ipython3",
   "version": "3.8.8"
  }
 },
 "nbformat": 4,
 "nbformat_minor": 1
}
